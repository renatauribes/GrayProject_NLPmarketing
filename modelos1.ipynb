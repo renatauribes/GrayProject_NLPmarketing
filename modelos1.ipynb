{
  "nbformat": 4,
  "nbformat_minor": 0,
  "metadata": {
    "colab": {
      "provenance": [],
      "collapsed_sections": [
        "AsBbh76Xc1_S",
        "ivQj1fjFIADv",
        "XuuSwBqqJJZe",
        "hU9PszwISIDM"
      ]
    },
    "kernelspec": {
      "name": "python3",
      "display_name": "Python 3"
    },
    "language_info": {
      "name": "python"
    }
  },
  "cells": [
    {
      "cell_type": "markdown",
      "source": [
        "# Data cleaning and preprocessing\n"
      ],
      "metadata": {
        "id": "AsBbh76Xc1_S"
      }
    },
    {
      "cell_type": "markdown",
      "source": [
        "## Libraries AND CONFIGURATIONS\n",
        "\n"
      ],
      "metadata": {
        "id": "ppCGH5IYcsVF"
      }
    },
    {
      "cell_type": "code",
      "execution_count": null,
      "metadata": {
        "id": "fTpmWYPFIXQ4"
      },
      "outputs": [],
      "source": [
        "# Import libraries\n",
        "\n",
        "import re                               # Regular Expressions\n",
        "import time                             # Time Function Execution\n",
        "import datetime as dt                   # Datetime utilities\n",
        "import pandas   as pd                   # Dataframe Manipulation\n",
        "import numpy    as np                   # Matrix Manipulation\n",
        "import seaborn  as sns                  # Visualization and Plotting"
      ]
    },
    {
      "cell_type": "code",
      "source": [
        "from sklearn import preprocessing       # Normalization and Data Transformations\n",
        "from sklearn import feature_selection   # Feature Selection\n",
        "from sklearn import feature_extraction  # Feature Extraction\n",
        "from sklearn import model_selection     # Train-testing Split\n",
        "from sklearn import utils               # Verification and Safe operations"
      ],
      "metadata": {
        "id": "TM7NW3fyI6dB"
      },
      "execution_count": null,
      "outputs": []
    },
    {
      "cell_type": "code",
      "source": [
        "import nltk                                          # Natural Language Toolkit\n",
        "nltk.download('stopwords')                           # Query stopwords list\n",
        "nltk.download('wordnet')                             # Query wordnet for POS\n",
        "nltk.download('averaged_perceptron_tagger')          # Used in Lemmatization"
      ],
      "metadata": {
        "colab": {
          "base_uri": "https://localhost:8080/"
        },
        "id": "Hz_Th1y26HD2",
        "outputId": "9f9fd978-2ddb-4afa-ecde-1cc165e25f7c"
      },
      "execution_count": null,
      "outputs": [
        {
          "output_type": "stream",
          "name": "stderr",
          "text": [
            "[nltk_data] Downloading package stopwords to /root/nltk_data...\n",
            "[nltk_data]   Package stopwords is already up-to-date!\n",
            "[nltk_data] Downloading package wordnet to /root/nltk_data...\n",
            "[nltk_data]   Package wordnet is already up-to-date!\n",
            "[nltk_data] Downloading package averaged_perceptron_tagger to\n",
            "[nltk_data]     /root/nltk_data...\n",
            "[nltk_data]   Package averaged_perceptron_tagger is already up-to-\n",
            "[nltk_data]       date!\n"
          ]
        },
        {
          "output_type": "execute_result",
          "data": {
            "text/plain": [
              "True"
            ]
          },
          "metadata": {},
          "execution_count": 115
        }
      ]
    },
    {
      "cell_type": "code",
      "source": [
        "\"\"\"from pydrive.auth        import GoogleAuth           # Use Google Auth\n",
        "from pydrive.drive       import GoogleDrive          # Mount Google's drive\n",
        "from google.colab        import auth                 # Use Google Auth in Colab\n",
        "from oauth2client.client import GoogleCredentials    # Api to load google credentials\"\"\""
      ],
      "metadata": {
        "id": "PCMjGNyfJG_0",
        "colab": {
          "base_uri": "https://localhost:8080/",
          "height": 1000
        },
        "outputId": "e8fa3359-a3bf-4ebb-da49-496272520c6c"
      },
      "execution_count": null,
      "outputs": [
        {
          "output_type": "execute_result",
          "data": {
            "text/plain": [
              "\"from pydrive.auth        import GoogleAuth           # Use Google Auth\\nfrom pydrive.drive       import GoogleDrive          # Mount Google's drive\\nfrom google.colab        import auth                 # Use Google Auth in Colab\\nfrom oauth2client.client import GoogleCredentials    # Api to load google credentials\""
            ],
            "application/vnd.google.colaboratory.intrinsic+json": {
              "type": "string"
            }
          },
          "metadata": {},
          "execution_count": 116
        }
      ]
    },
    {
      "cell_type": "code",
      "source": [
        "sns.set_theme()"
      ],
      "metadata": {
        "id": "wfNl_-eHJC73"
      },
      "execution_count": null,
      "outputs": []
    },
    {
      "cell_type": "markdown",
      "source": [
        "## Load Data  \n",
        "First load the csv into /content/ directory.  \n",
        "Run the code above and agree to allow colab to get access to the folder /content/  \n"
      ],
      "metadata": {
        "id": "XuuSwBqqJJZe"
      }
    },
    {
      "cell_type": "code",
      "source": [
        "# Create an api session with Google Drive\n",
        "\"\"\"auth.authenticate_user()\n",
        "gauth             = GoogleAuth()\n",
        "gauth.credentials = GoogleCredentials.get_application_default()\n",
        "drive             = GoogleDrive(gauth)\"\"\""
      ],
      "metadata": {
        "id": "e-CEHgDUJKxV",
        "colab": {
          "base_uri": "https://localhost:8080/",
          "height": 1000
        },
        "outputId": "66ce7add-4779-47b9-a2e6-c6821c5f2776"
      },
      "execution_count": null,
      "outputs": [
        {
          "output_type": "execute_result",
          "data": {
            "text/plain": [
              "'auth.authenticate_user()\\ngauth             = GoogleAuth()\\ngauth.credentials = GoogleCredentials.get_application_default()\\ndrive             = GoogleDrive(gauth)'"
            ],
            "application/vnd.google.colaboratory.intrinsic+json": {
              "type": "string"
            }
          },
          "metadata": {},
          "execution_count": 118
        }
      ]
    },
    {
      "cell_type": "markdown",
      "source": [
        "Change the string in var filepath to set where the path resides."
      ],
      "metadata": {
        "id": "odbtc3gcK6QD"
      }
    },
    {
      "cell_type": "code",
      "source": [
        "filepath = \"/aspcliamsdb_r_sptkpi.xlsx\""
      ],
      "metadata": {
        "id": "2bFn9R_l917O"
      },
      "execution_count": null,
      "outputs": []
    },
    {
      "cell_type": "markdown",
      "source": [
        "Load Data:\n",
        "- Set corresponding data type for each column.\n",
        "- Use first row in csv as column's name.\n",
        "- Leave rows with no data."
      ],
      "metadata": {
        "id": "JeCM0RrGJQk-"
      }
    },
    {
      "cell_type": "code",
      "source": [
        "# Load Dataset\n",
        "start_time = time.time()  # Measure function time execution\n",
        "# Set types to each column\n",
        "dtypes     = {\"cm_id\":'category', \"claim_id\":'category',\"pl\":'category',\"productmodel\":'string',\"partno\":'string',\"totalamount\":'float32',\"program_number\":'category',\"program_name\":'string',\"descr\":'string',\"actual_activity\":'string',\"reseller\":'string',\"claim_status\":'category',\"business_type\":'category',\"activity_subtype\":'category',\"activity_subtype_id\":'category'}\n",
        "# Load from excel\n",
        "raw_df     = pd.read_excel(filepath, header=0, verbose=True, dtype=dtypes, thousands=\",\") \n",
        "# Load from CSV\n",
        "end_time   = time.time()  # End time\n",
        "print(\"The time of execution is :\",(end_time-start_time) * 10**3, \"ms\")"
      ],
      "metadata": {
        "id": "rjOQdkocJMvR",
        "colab": {
          "base_uri": "https://localhost:8080/"
        },
        "outputId": "8a0aa698-6fca-4c6d-a544-d5e513532e0b"
      },
      "execution_count": null,
      "outputs": [
        {
          "output_type": "stream",
          "name": "stdout",
          "text": [
            "Reading sheet 0\n"
          ]
        },
        {
          "output_type": "stream",
          "name": "stderr",
          "text": [
            "/usr/local/lib/python3.10/dist-packages/openpyxl/worksheet/_reader.py:312: UserWarning: Unknown extension is not supported and will be removed\n",
            "  warn(msg)\n",
            "<ipython-input-120-2cc263ae4397>:6: FutureWarning: In a future version, the Index constructor will not infer numeric dtypes when passed object-dtype sequences (matching Series behavior)\n",
            "  raw_df     = pd.read_excel(filepath, header=0, verbose=True, dtype=dtypes, thousands=\",\")\n",
            "<ipython-input-120-2cc263ae4397>:6: FutureWarning: In a future version, the Index constructor will not infer numeric dtypes when passed object-dtype sequences (matching Series behavior)\n",
            "  raw_df     = pd.read_excel(filepath, header=0, verbose=True, dtype=dtypes, thousands=\",\")\n"
          ]
        },
        {
          "output_type": "stream",
          "name": "stdout",
          "text": [
            "The time of execution is : 10532.884120941162 ms\n"
          ]
        }
      ]
    },
    {
      "cell_type": "code",
      "source": [
        "#from google.colab import drive\n",
        "#drive.mount('/content/drive')"
      ],
      "metadata": {
        "id": "By4qXUA4KEpH"
      },
      "execution_count": null,
      "outputs": []
    },
    {
      "cell_type": "markdown",
      "source": [
        "### Set column type"
      ],
      "metadata": {
        "id": "tayR7TQPM9Xj"
      }
    },
    {
      "cell_type": "code",
      "source": [
        "start_time = time.time()                                                            # Measure function time executio\n",
        "raw_df[\"sdate\"] = pd.to_datetime(raw_df[\"start_date\"], errors=\"coerce\", utc=True)   # Convert to Time Series. Return Date type\n",
        "raw_df[\"edate\"] = pd.to_datetime(raw_df[\"end_date\"], errors=\"coerce\", utc=True)     # Convert to Time Series. Return Date type\n",
        "end_time   = time.time()  # End time\n",
        "print(\"The time of execution is :\",(end_time-start_time) * 10**3, \"ms\")"
      ],
      "metadata": {
        "id": "LC9QyRooEyui",
        "colab": {
          "base_uri": "https://localhost:8080/"
        },
        "outputId": "726e1d0d-8bd9-48e6-97a7-aa95c193395f"
      },
      "execution_count": null,
      "outputs": [
        {
          "output_type": "stream",
          "name": "stdout",
          "text": [
            "The time of execution is : 18.191099166870117 ms\n"
          ]
        }
      ]
    },
    {
      "cell_type": "markdown",
      "source": [
        "## Data Description"
      ],
      "metadata": {
        "id": "hU9PszwISIDM"
      }
    },
    {
      "cell_type": "code",
      "source": [
        "# Sort Columns by date\n",
        "raw_df = raw_df.sort_values(by=\"sdate\")"
      ],
      "metadata": {
        "id": "SIDnclXvS0Pp"
      },
      "execution_count": null,
      "outputs": []
    },
    {
      "cell_type": "code",
      "source": [
        "raw_df"
      ],
      "metadata": {
        "colab": {
          "base_uri": "https://localhost:8080/",
          "height": 738
        },
        "id": "o-DDhB-XMih5",
        "outputId": "06f73fdc-a3d5-4dd2-a7d9-d08254391a90"
      },
      "execution_count": null,
      "outputs": [
        {
          "output_type": "execute_result",
          "data": {
            "text/plain": [
              "       cm_id claim_id           start_date             end_date  \\\n",
              "20494  48954    16074  2001-06-26 00:00:00  2021-08-31 00:00:00   \n",
              "23268  56033    22290  2011-11-05 00:00:00  2022-12-03 00:00:00   \n",
              "23440  57380    22661  2011-11-05 00:00:00  2022-12-04 00:00:00   \n",
              "13686  24808     8203  2016-09-10 00:00:00  2016-09-10 00:00:00   \n",
              "17139  25523     8341  2017-11-24 00:00:00  2017-11-24 00:00:00   \n",
              "...      ...      ...                  ...                  ...   \n",
              "23032  64824    24842                  NaN                  NaN   \n",
              "23038  64815    24842                  NaN                  NaN   \n",
              "23041  64817    24842                  NaN                  NaN   \n",
              "23042  23069     7717  0208-12-21 00:00:00  2019-12-28 00:00:00   \n",
              "23213  41150    15488                  NaN                  NaN   \n",
              "\n",
              "                  pl                      productmodel   partno  \\\n",
              "20494  5M- (7CC52AA)                              <NA>     <NA>   \n",
              "23268   KV- (4XM40A)                       15-EH2085CL  61D22UA   \n",
              "23440   KV- (4XM40A)                       15-EH2085CL  61D22UA   \n",
              "13686  4H- (7CC47AA)                           OJ 5740   B9S76A   \n",
              "17139  2N- (7CC42AA)                    Rockit 100 AiO   T8X39A   \n",
              "...              ...                               ...      ...   \n",
              "23032  5M- (7CC52AA)                     HP Envy 6055e   223N1A   \n",
              "23038  2N- (7CC42AA)                  HP DeskJet 2755e   26K67A   \n",
              "23041  2N- (7CC42AA)                  DJ 3755 AiO Blue   J9V90A   \n",
              "23042  1D- (7CC37AA)  HP LaserJet Pro MFP M29w Printer   Y5S53A   \n",
              "23213            NaN                              <NA>     <NA>   \n",
              "\n",
              "         totalamount program_number  \\\n",
              "20494    5000.000000          11493   \n",
              "23268  407595.000000  AIS-CK-N00823   \n",
              "23440   25375.000000  AIS-CK-N00823   \n",
              "13686   19800.000000           2896   \n",
              "17139   74880.601562           5697   \n",
              "...              ...            ...   \n",
              "23032     960.000000           M104   \n",
              "23038     260.000000           M104   \n",
              "23041     455.000000           M104   \n",
              "23042    4760.000000           9293   \n",
              "23213       0.000000            NaN   \n",
              "\n",
              "                                    program_name                        descr  \\\n",
              "20494                  ASP Meijer BTS '21 Endcap     MARKET DEVELOPMENT FUNDS   \n",
              "23268             Costco.com C2'22 NB IR Program                    undefined   \n",
              "23440             Costco.com C2'22 NB IR Program                    undefined   \n",
              "13686                     Target OJ5740 Markdown                 EOL Program    \n",
              "17139               HP Amp Price Elasticity Test  SPECIAL NEGOTIATED DISCOUNT   \n",
              "...                                          ...                          ...   \n",
              "23032                             NP-B2B2023-HPS                    undefined   \n",
              "23038                             NP-B2B2023-HPS                    undefined   \n",
              "23041                             NP-B2B2023-HPS                    undefined   \n",
              "23042  ASP - LJ m29w In Store Offers for Hol '19  SPECIAL NEGOTIATED DISCOUNT   \n",
              "23213                                       <NA>                         <NA>   \n",
              "\n",
              "                                         actual_activity  reseller  \\\n",
              "20494                 In-Store Merchandising Enhancement   New Age   \n",
              "23268                                    Instant Savings    Costco   \n",
              "23440                                    Instant Savings    Costco   \n",
              "13686  End of Life (Prior to 8/1/12 EOL booked to Y77E.)    Target   \n",
              "17139                             Stock return avoidance  Wal-Mart   \n",
              "...                                                  ...       ...   \n",
              "23032                                    Instant Savings   New Age   \n",
              "23038                                    Instant Savings   New Age   \n",
              "23041                                    Instant Savings   New Age   \n",
              "23042                                                MIR   Staples   \n",
              "23213                                               <NA>      <NA>   \n",
              "\n",
              "      claim_status business_type activity_subtype activity_subtype_id  \\\n",
              "20494    Cancelled        HPS HW              BTS                 BTS   \n",
              "23268     Approved            PC          Display             Display   \n",
              "23440     Approved            PC          Display             Display   \n",
              "13686     Approved        HPS HW          UNKNOWN             UNKNOWN   \n",
              "17139     Approved        HPS HW          UNKNOWN             UNKNOWN   \n",
              "...            ...           ...              ...                 ...   \n",
              "23032    Submitted        HPS HW          UNKNOWN             UNKNOWN   \n",
              "23038    Submitted        HPS HW          UNKNOWN             UNKNOWN   \n",
              "23041    Submitted        HPS HW          UNKNOWN             UNKNOWN   \n",
              "23042     Approved        HPS HW          Holiday             Holiday   \n",
              "23213          NaN           NaN          UNKNOWN             UNKNOWN   \n",
              "\n",
              "                          sdate                     edate  \n",
              "20494 2001-06-26 00:00:00+00:00 2021-08-31 00:00:00+00:00  \n",
              "23268 2011-11-05 00:00:00+00:00 2022-12-03 00:00:00+00:00  \n",
              "23440 2011-11-05 00:00:00+00:00 2022-12-04 00:00:00+00:00  \n",
              "13686 2016-09-10 00:00:00+00:00 2016-09-10 00:00:00+00:00  \n",
              "17139 2017-11-24 00:00:00+00:00 2017-11-24 00:00:00+00:00  \n",
              "...                         ...                       ...  \n",
              "23032                       NaT                       NaT  \n",
              "23038                       NaT                       NaT  \n",
              "23041                       NaT                       NaT  \n",
              "23042                       NaT 2019-12-28 00:00:00+00:00  \n",
              "23213                       NaT                       NaT  \n",
              "\n",
              "[24608 rows x 19 columns]"
            ],
            "text/html": [
              "\n",
              "  <div id=\"df-49d231e8-b793-4a76-9809-cfb5807278c6\">\n",
              "    <div class=\"colab-df-container\">\n",
              "      <div>\n",
              "<style scoped>\n",
              "    .dataframe tbody tr th:only-of-type {\n",
              "        vertical-align: middle;\n",
              "    }\n",
              "\n",
              "    .dataframe tbody tr th {\n",
              "        vertical-align: top;\n",
              "    }\n",
              "\n",
              "    .dataframe thead th {\n",
              "        text-align: right;\n",
              "    }\n",
              "</style>\n",
              "<table border=\"1\" class=\"dataframe\">\n",
              "  <thead>\n",
              "    <tr style=\"text-align: right;\">\n",
              "      <th></th>\n",
              "      <th>cm_id</th>\n",
              "      <th>claim_id</th>\n",
              "      <th>start_date</th>\n",
              "      <th>end_date</th>\n",
              "      <th>pl</th>\n",
              "      <th>productmodel</th>\n",
              "      <th>partno</th>\n",
              "      <th>totalamount</th>\n",
              "      <th>program_number</th>\n",
              "      <th>program_name</th>\n",
              "      <th>descr</th>\n",
              "      <th>actual_activity</th>\n",
              "      <th>reseller</th>\n",
              "      <th>claim_status</th>\n",
              "      <th>business_type</th>\n",
              "      <th>activity_subtype</th>\n",
              "      <th>activity_subtype_id</th>\n",
              "      <th>sdate</th>\n",
              "      <th>edate</th>\n",
              "    </tr>\n",
              "  </thead>\n",
              "  <tbody>\n",
              "    <tr>\n",
              "      <th>20494</th>\n",
              "      <td>48954</td>\n",
              "      <td>16074</td>\n",
              "      <td>2001-06-26 00:00:00</td>\n",
              "      <td>2021-08-31 00:00:00</td>\n",
              "      <td>5M- (7CC52AA)</td>\n",
              "      <td>&lt;NA&gt;</td>\n",
              "      <td>&lt;NA&gt;</td>\n",
              "      <td>5000.000000</td>\n",
              "      <td>11493</td>\n",
              "      <td>ASP Meijer BTS '21 Endcap</td>\n",
              "      <td>MARKET DEVELOPMENT FUNDS</td>\n",
              "      <td>In-Store Merchandising Enhancement</td>\n",
              "      <td>New Age</td>\n",
              "      <td>Cancelled</td>\n",
              "      <td>HPS HW</td>\n",
              "      <td>BTS</td>\n",
              "      <td>BTS</td>\n",
              "      <td>2001-06-26 00:00:00+00:00</td>\n",
              "      <td>2021-08-31 00:00:00+00:00</td>\n",
              "    </tr>\n",
              "    <tr>\n",
              "      <th>23268</th>\n",
              "      <td>56033</td>\n",
              "      <td>22290</td>\n",
              "      <td>2011-11-05 00:00:00</td>\n",
              "      <td>2022-12-03 00:00:00</td>\n",
              "      <td>KV- (4XM40A)</td>\n",
              "      <td>15-EH2085CL</td>\n",
              "      <td>61D22UA</td>\n",
              "      <td>407595.000000</td>\n",
              "      <td>AIS-CK-N00823</td>\n",
              "      <td>Costco.com C2'22 NB IR Program</td>\n",
              "      <td>undefined</td>\n",
              "      <td>Instant Savings</td>\n",
              "      <td>Costco</td>\n",
              "      <td>Approved</td>\n",
              "      <td>PC</td>\n",
              "      <td>Display</td>\n",
              "      <td>Display</td>\n",
              "      <td>2011-11-05 00:00:00+00:00</td>\n",
              "      <td>2022-12-03 00:00:00+00:00</td>\n",
              "    </tr>\n",
              "    <tr>\n",
              "      <th>23440</th>\n",
              "      <td>57380</td>\n",
              "      <td>22661</td>\n",
              "      <td>2011-11-05 00:00:00</td>\n",
              "      <td>2022-12-04 00:00:00</td>\n",
              "      <td>KV- (4XM40A)</td>\n",
              "      <td>15-EH2085CL</td>\n",
              "      <td>61D22UA</td>\n",
              "      <td>25375.000000</td>\n",
              "      <td>AIS-CK-N00823</td>\n",
              "      <td>Costco.com C2'22 NB IR Program</td>\n",
              "      <td>undefined</td>\n",
              "      <td>Instant Savings</td>\n",
              "      <td>Costco</td>\n",
              "      <td>Approved</td>\n",
              "      <td>PC</td>\n",
              "      <td>Display</td>\n",
              "      <td>Display</td>\n",
              "      <td>2011-11-05 00:00:00+00:00</td>\n",
              "      <td>2022-12-04 00:00:00+00:00</td>\n",
              "    </tr>\n",
              "    <tr>\n",
              "      <th>13686</th>\n",
              "      <td>24808</td>\n",
              "      <td>8203</td>\n",
              "      <td>2016-09-10 00:00:00</td>\n",
              "      <td>2016-09-10 00:00:00</td>\n",
              "      <td>4H- (7CC47AA)</td>\n",
              "      <td>OJ 5740</td>\n",
              "      <td>B9S76A</td>\n",
              "      <td>19800.000000</td>\n",
              "      <td>2896</td>\n",
              "      <td>Target OJ5740 Markdown</td>\n",
              "      <td>EOL Program</td>\n",
              "      <td>End of Life (Prior to 8/1/12 EOL booked to Y77E.)</td>\n",
              "      <td>Target</td>\n",
              "      <td>Approved</td>\n",
              "      <td>HPS HW</td>\n",
              "      <td>UNKNOWN</td>\n",
              "      <td>UNKNOWN</td>\n",
              "      <td>2016-09-10 00:00:00+00:00</td>\n",
              "      <td>2016-09-10 00:00:00+00:00</td>\n",
              "    </tr>\n",
              "    <tr>\n",
              "      <th>17139</th>\n",
              "      <td>25523</td>\n",
              "      <td>8341</td>\n",
              "      <td>2017-11-24 00:00:00</td>\n",
              "      <td>2017-11-24 00:00:00</td>\n",
              "      <td>2N- (7CC42AA)</td>\n",
              "      <td>Rockit 100 AiO</td>\n",
              "      <td>T8X39A</td>\n",
              "      <td>74880.601562</td>\n",
              "      <td>5697</td>\n",
              "      <td>HP Amp Price Elasticity Test</td>\n",
              "      <td>SPECIAL NEGOTIATED DISCOUNT</td>\n",
              "      <td>Stock return avoidance</td>\n",
              "      <td>Wal-Mart</td>\n",
              "      <td>Approved</td>\n",
              "      <td>HPS HW</td>\n",
              "      <td>UNKNOWN</td>\n",
              "      <td>UNKNOWN</td>\n",
              "      <td>2017-11-24 00:00:00+00:00</td>\n",
              "      <td>2017-11-24 00:00:00+00:00</td>\n",
              "    </tr>\n",
              "    <tr>\n",
              "      <th>...</th>\n",
              "      <td>...</td>\n",
              "      <td>...</td>\n",
              "      <td>...</td>\n",
              "      <td>...</td>\n",
              "      <td>...</td>\n",
              "      <td>...</td>\n",
              "      <td>...</td>\n",
              "      <td>...</td>\n",
              "      <td>...</td>\n",
              "      <td>...</td>\n",
              "      <td>...</td>\n",
              "      <td>...</td>\n",
              "      <td>...</td>\n",
              "      <td>...</td>\n",
              "      <td>...</td>\n",
              "      <td>...</td>\n",
              "      <td>...</td>\n",
              "      <td>...</td>\n",
              "      <td>...</td>\n",
              "    </tr>\n",
              "    <tr>\n",
              "      <th>23032</th>\n",
              "      <td>64824</td>\n",
              "      <td>24842</td>\n",
              "      <td>NaN</td>\n",
              "      <td>NaN</td>\n",
              "      <td>5M- (7CC52AA)</td>\n",
              "      <td>HP Envy 6055e</td>\n",
              "      <td>223N1A</td>\n",
              "      <td>960.000000</td>\n",
              "      <td>M104</td>\n",
              "      <td>NP-B2B2023-HPS</td>\n",
              "      <td>undefined</td>\n",
              "      <td>Instant Savings</td>\n",
              "      <td>New Age</td>\n",
              "      <td>Submitted</td>\n",
              "      <td>HPS HW</td>\n",
              "      <td>UNKNOWN</td>\n",
              "      <td>UNKNOWN</td>\n",
              "      <td>NaT</td>\n",
              "      <td>NaT</td>\n",
              "    </tr>\n",
              "    <tr>\n",
              "      <th>23038</th>\n",
              "      <td>64815</td>\n",
              "      <td>24842</td>\n",
              "      <td>NaN</td>\n",
              "      <td>NaN</td>\n",
              "      <td>2N- (7CC42AA)</td>\n",
              "      <td>HP DeskJet 2755e</td>\n",
              "      <td>26K67A</td>\n",
              "      <td>260.000000</td>\n",
              "      <td>M104</td>\n",
              "      <td>NP-B2B2023-HPS</td>\n",
              "      <td>undefined</td>\n",
              "      <td>Instant Savings</td>\n",
              "      <td>New Age</td>\n",
              "      <td>Submitted</td>\n",
              "      <td>HPS HW</td>\n",
              "      <td>UNKNOWN</td>\n",
              "      <td>UNKNOWN</td>\n",
              "      <td>NaT</td>\n",
              "      <td>NaT</td>\n",
              "    </tr>\n",
              "    <tr>\n",
              "      <th>23041</th>\n",
              "      <td>64817</td>\n",
              "      <td>24842</td>\n",
              "      <td>NaN</td>\n",
              "      <td>NaN</td>\n",
              "      <td>2N- (7CC42AA)</td>\n",
              "      <td>DJ 3755 AiO Blue</td>\n",
              "      <td>J9V90A</td>\n",
              "      <td>455.000000</td>\n",
              "      <td>M104</td>\n",
              "      <td>NP-B2B2023-HPS</td>\n",
              "      <td>undefined</td>\n",
              "      <td>Instant Savings</td>\n",
              "      <td>New Age</td>\n",
              "      <td>Submitted</td>\n",
              "      <td>HPS HW</td>\n",
              "      <td>UNKNOWN</td>\n",
              "      <td>UNKNOWN</td>\n",
              "      <td>NaT</td>\n",
              "      <td>NaT</td>\n",
              "    </tr>\n",
              "    <tr>\n",
              "      <th>23042</th>\n",
              "      <td>23069</td>\n",
              "      <td>7717</td>\n",
              "      <td>0208-12-21 00:00:00</td>\n",
              "      <td>2019-12-28 00:00:00</td>\n",
              "      <td>1D- (7CC37AA)</td>\n",
              "      <td>HP LaserJet Pro MFP M29w Printer</td>\n",
              "      <td>Y5S53A</td>\n",
              "      <td>4760.000000</td>\n",
              "      <td>9293</td>\n",
              "      <td>ASP - LJ m29w In Store Offers for Hol '19</td>\n",
              "      <td>SPECIAL NEGOTIATED DISCOUNT</td>\n",
              "      <td>MIR</td>\n",
              "      <td>Staples</td>\n",
              "      <td>Approved</td>\n",
              "      <td>HPS HW</td>\n",
              "      <td>Holiday</td>\n",
              "      <td>Holiday</td>\n",
              "      <td>NaT</td>\n",
              "      <td>2019-12-28 00:00:00+00:00</td>\n",
              "    </tr>\n",
              "    <tr>\n",
              "      <th>23213</th>\n",
              "      <td>41150</td>\n",
              "      <td>15488</td>\n",
              "      <td>NaN</td>\n",
              "      <td>NaN</td>\n",
              "      <td>NaN</td>\n",
              "      <td>&lt;NA&gt;</td>\n",
              "      <td>&lt;NA&gt;</td>\n",
              "      <td>0.000000</td>\n",
              "      <td>NaN</td>\n",
              "      <td>&lt;NA&gt;</td>\n",
              "      <td>&lt;NA&gt;</td>\n",
              "      <td>&lt;NA&gt;</td>\n",
              "      <td>&lt;NA&gt;</td>\n",
              "      <td>NaN</td>\n",
              "      <td>NaN</td>\n",
              "      <td>UNKNOWN</td>\n",
              "      <td>UNKNOWN</td>\n",
              "      <td>NaT</td>\n",
              "      <td>NaT</td>\n",
              "    </tr>\n",
              "  </tbody>\n",
              "</table>\n",
              "<p>24608 rows × 19 columns</p>\n",
              "</div>\n",
              "      <button class=\"colab-df-convert\" onclick=\"convertToInteractive('df-49d231e8-b793-4a76-9809-cfb5807278c6')\"\n",
              "              title=\"Convert this dataframe to an interactive table.\"\n",
              "              style=\"display:none;\">\n",
              "        \n",
              "  <svg xmlns=\"http://www.w3.org/2000/svg\" height=\"24px\"viewBox=\"0 0 24 24\"\n",
              "       width=\"24px\">\n",
              "    <path d=\"M0 0h24v24H0V0z\" fill=\"none\"/>\n",
              "    <path d=\"M18.56 5.44l.94 2.06.94-2.06 2.06-.94-2.06-.94-.94-2.06-.94 2.06-2.06.94zm-11 1L8.5 8.5l.94-2.06 2.06-.94-2.06-.94L8.5 2.5l-.94 2.06-2.06.94zm10 10l.94 2.06.94-2.06 2.06-.94-2.06-.94-.94-2.06-.94 2.06-2.06.94z\"/><path d=\"M17.41 7.96l-1.37-1.37c-.4-.4-.92-.59-1.43-.59-.52 0-1.04.2-1.43.59L10.3 9.45l-7.72 7.72c-.78.78-.78 2.05 0 2.83L4 21.41c.39.39.9.59 1.41.59.51 0 1.02-.2 1.41-.59l7.78-7.78 2.81-2.81c.8-.78.8-2.07 0-2.86zM5.41 20L4 18.59l7.72-7.72 1.47 1.35L5.41 20z\"/>\n",
              "  </svg>\n",
              "      </button>\n",
              "      \n",
              "  <style>\n",
              "    .colab-df-container {\n",
              "      display:flex;\n",
              "      flex-wrap:wrap;\n",
              "      gap: 12px;\n",
              "    }\n",
              "\n",
              "    .colab-df-convert {\n",
              "      background-color: #E8F0FE;\n",
              "      border: none;\n",
              "      border-radius: 50%;\n",
              "      cursor: pointer;\n",
              "      display: none;\n",
              "      fill: #1967D2;\n",
              "      height: 32px;\n",
              "      padding: 0 0 0 0;\n",
              "      width: 32px;\n",
              "    }\n",
              "\n",
              "    .colab-df-convert:hover {\n",
              "      background-color: #E2EBFA;\n",
              "      box-shadow: 0px 1px 2px rgba(60, 64, 67, 0.3), 0px 1px 3px 1px rgba(60, 64, 67, 0.15);\n",
              "      fill: #174EA6;\n",
              "    }\n",
              "\n",
              "    [theme=dark] .colab-df-convert {\n",
              "      background-color: #3B4455;\n",
              "      fill: #D2E3FC;\n",
              "    }\n",
              "\n",
              "    [theme=dark] .colab-df-convert:hover {\n",
              "      background-color: #434B5C;\n",
              "      box-shadow: 0px 1px 3px 1px rgba(0, 0, 0, 0.15);\n",
              "      filter: drop-shadow(0px 1px 2px rgba(0, 0, 0, 0.3));\n",
              "      fill: #FFFFFF;\n",
              "    }\n",
              "  </style>\n",
              "\n",
              "      <script>\n",
              "        const buttonEl =\n",
              "          document.querySelector('#df-49d231e8-b793-4a76-9809-cfb5807278c6 button.colab-df-convert');\n",
              "        buttonEl.style.display =\n",
              "          google.colab.kernel.accessAllowed ? 'block' : 'none';\n",
              "\n",
              "        async function convertToInteractive(key) {\n",
              "          const element = document.querySelector('#df-49d231e8-b793-4a76-9809-cfb5807278c6');\n",
              "          const dataTable =\n",
              "            await google.colab.kernel.invokeFunction('convertToInteractive',\n",
              "                                                     [key], {});\n",
              "          if (!dataTable) return;\n",
              "\n",
              "          const docLinkHtml = 'Like what you see? Visit the ' +\n",
              "            '<a target=\"_blank\" href=https://colab.research.google.com/notebooks/data_table.ipynb>data table notebook</a>'\n",
              "            + ' to learn more about interactive tables.';\n",
              "          element.innerHTML = '';\n",
              "          dataTable['output_type'] = 'display_data';\n",
              "          await google.colab.output.renderOutput(dataTable, element);\n",
              "          const docLink = document.createElement('div');\n",
              "          docLink.innerHTML = docLinkHtml;\n",
              "          element.appendChild(docLink);\n",
              "        }\n",
              "      </script>\n",
              "    </div>\n",
              "  </div>\n",
              "  "
            ]
          },
          "metadata": {},
          "execution_count": 168
        }
      ]
    },
    {
      "cell_type": "markdown",
      "source": [],
      "metadata": {
        "id": "yXjXtUgwyICF"
      }
    },
    {
      "cell_type": "code",
      "source": [
        "def utils_preprocess_text(text, flg_stemm=False, flg_lemm=False, stopwords=None):\n",
        "  lst_text = clean_text(text).split()                          # Text to list (Tokenization)\n",
        "  if stopwords is True:\n",
        "    stopwords  = nltk.corpus.stopwords.words(\"english\")        # Use default stopwords (English) if one not provided\n",
        "    text_clean = remove_stopwords(stopwords, lst_text)         # Apply stopwords to text\n",
        "  elif stopwords is False:                             \n",
        "    text_clean = lst_text                                      # Use No stopwords\n",
        "  else:\n",
        "    text_clean = remove_stopwords(lst_stopwords, lst_text)     # Use given stopwords if one is provided\n",
        "\n",
        "  if flg_stemm == True:\n",
        "    text_clean = stemtext(text_clean)                          # Apply Stemming if flag is on\n",
        "  if flg_lemm == True:\n",
        "    text_clean = lemtext(text_clean)                           # Apply Lemmatizing if flag is on\n",
        "  text_out = \" \".join(text_clean)                              # Concatenate text\n",
        "  return text_out\n",
        "\n",
        "## Support Functions\n",
        "def clean_text(text):\n",
        "  # Clean: Convert to lowercase. Remove punctuation and characters, then strip.\n",
        "  if not pd.isna(text):\n",
        "    text_ph0 = text.lower()                                      # Lowercase text\n",
        "    text_ph1 = re.sub('https?://\\S+|www\\.\\S+', '', text_ph0)     # Remove URLs\n",
        "    text_ph2 = re.sub('<.*>+', '', text_ph1)                     # Remove content inside brackets\n",
        "    text_ph3 = re.sub('\\n', '', text_ph2)                        # Remove EOL character\n",
        "    text_ph4 = re.sub(r'[^\\w\\s]', ' ', str(text_ph3).strip())    # Mod: Add replace with whitespace to handle End.Begin phrase\n",
        "    text_clean = text_ph4\n",
        "    return text_clean\n",
        "  else:\n",
        "      return \"NAN\"\n",
        "\n",
        "\n",
        "\n",
        "def remove_stopwords(stopwords, lst_text):\n",
        "  return [word for word in lst_text if word not in stopwords]\n",
        "\n",
        "\n",
        "def stemtext(lst_text):\n",
        "  ss = nltk.stem.snowball.SnowballStemmer(\"english\", ignore_stopwords=True)     # Improve version of PorterStemming\n",
        "  return [ss.stem(word) for word in lst_text]\n",
        "\n",
        "\n",
        "def lemtext(lst_text):\n",
        "  from nltk.stem   import WordNetLemmatizer\n",
        "  lem          = WordNetLemmatizer()                           # Instance Lemmatizer\n",
        "  tagged_words = nltk.pos_tag(lst_text)                        # Tuple with POS\n",
        "  return [lem.lemmatize(word, pos=get_wordnet_pos(tag)) for word, tag in tagged_words]\n",
        "\n",
        "def get_wordnet_pos(treebank_tag):\n",
        "  from nltk.corpus import wordnet\n",
        "  if treebank_tag.startswith('J'):\n",
        "    return wordnet.ADJ\n",
        "  elif treebank_tag.startswith('V'):\n",
        "    return wordnet.VERB\n",
        "  elif treebank_tag.startswith('N'):\n",
        "    return wordnet.NOUN\n",
        "  elif treebank_tag.startswith('R'):\n",
        "    return wordnet.ADV\n",
        "  else:\n",
        "    return wordnet.NOUN    # If POS is not recognized; Noun assumption."
      ],
      "metadata": {
        "id": "6qRDJm2W_lBD"
      },
      "execution_count": null,
      "outputs": []
    },
    {
      "cell_type": "code",
      "source": [
        "train = raw_df[['activity_subtype','program_name']].query(\"activity_subtype != 'UNKNOWN'\")\n",
        "test = raw_df[['activity_subtype','program_name']].query(\"activity_subtype == 'UNKNOWN'\")"
      ],
      "metadata": {
        "id": "iaPZ63emJ1bW"
      },
      "execution_count": null,
      "outputs": []
    },
    {
      "cell_type": "code",
      "source": [
        "# Comparative of different configurations for preprocessing\n",
        "dfcopy                   = train\n",
        "dfcopy[\"text_stem\"]      = train[\"program_name\"].apply(lambda x: utils_preprocess_text(x, flg_stemm=True, flg_lemm=False, stopwords=False))"
      ],
      "metadata": {
        "id": "B6UuyAcvAKjm"
      },
      "execution_count": null,
      "outputs": []
    },
    {
      "cell_type": "markdown",
      "source": [
        "## TF iDF\n",
        "\n",
        "\n"
      ],
      "metadata": {
        "id": "1m07aADtE8xe"
      }
    },
    {
      "cell_type": "code",
      "source": [
        "vectorizer = feature_extraction.text.TfidfVectorizer(max_features=10000, ngram_range=(1,2), decode_error='ignore')"
      ],
      "metadata": {
        "id": "BfvjC--oCgoj"
      },
      "execution_count": null,
      "outputs": []
    },
    {
      "cell_type": "code",
      "source": [
        "vectorizer.fit(df[\"text_clean\"]) # Train TFiDF with the text clean\n",
        "X              = vectorizer.transform(df[\"text_clean\"])\n",
        "dic_vocabulary = vectorizer.vocabulary_"
      ],
      "metadata": {
        "id": "3gcCjN10CkT0",
        "colab": {
          "base_uri": "https://localhost:8080/",
          "height": 198
        },
        "outputId": "0dd9fa9c-2cac-42a1-f485-b224b6d91c64"
      },
      "execution_count": null,
      "outputs": [
        {
          "output_type": "error",
          "ename": "NameError",
          "evalue": "ignored",
          "traceback": [
            "\u001b[0;31m---------------------------------------------------------------------------\u001b[0m",
            "\u001b[0;31mNameError\u001b[0m                                 Traceback (most recent call last)",
            "\u001b[0;32m<ipython-input-85-5837febe4951>\u001b[0m in \u001b[0;36m<cell line: 1>\u001b[0;34m()\u001b[0m\n\u001b[0;32m----> 1\u001b[0;31m \u001b[0mvectorizer\u001b[0m\u001b[0;34m.\u001b[0m\u001b[0mfit\u001b[0m\u001b[0;34m(\u001b[0m\u001b[0mdf\u001b[0m\u001b[0;34m[\u001b[0m\u001b[0;34m\"text_clean\"\u001b[0m\u001b[0;34m]\u001b[0m\u001b[0;34m)\u001b[0m \u001b[0;31m# Train TFiDF with the text clean\u001b[0m\u001b[0;34m\u001b[0m\u001b[0;34m\u001b[0m\u001b[0m\n\u001b[0m\u001b[1;32m      2\u001b[0m \u001b[0mX\u001b[0m              \u001b[0;34m=\u001b[0m \u001b[0mvectorizer\u001b[0m\u001b[0;34m.\u001b[0m\u001b[0mtransform\u001b[0m\u001b[0;34m(\u001b[0m\u001b[0mdf\u001b[0m\u001b[0;34m[\u001b[0m\u001b[0;34m\"text_clean\"\u001b[0m\u001b[0;34m]\u001b[0m\u001b[0;34m)\u001b[0m\u001b[0;34m\u001b[0m\u001b[0;34m\u001b[0m\u001b[0m\n\u001b[1;32m      3\u001b[0m \u001b[0mdic_vocabulary\u001b[0m \u001b[0;34m=\u001b[0m \u001b[0mvectorizer\u001b[0m\u001b[0;34m.\u001b[0m\u001b[0mvocabulary_\u001b[0m\u001b[0;34m\u001b[0m\u001b[0;34m\u001b[0m\u001b[0m\n",
            "\u001b[0;31mNameError\u001b[0m: name 'df' is not defined"
          ]
        }
      ]
    },
    {
      "cell_type": "code",
      "source": [
        "X_train, X_test, y_train, y_test = model_selection.train_test_split(X,df[\"y\"],test_size=0.3, shuffle=True)\n",
        "X_test, X_val, y_test, y_val     = model_selection.train_test_split(X_test,y_test,test_size=0.5, shuffle=True)"
      ],
      "metadata": {
        "id": "jvYmEvYECoMR"
      },
      "execution_count": null,
      "outputs": []
    },
    {
      "cell_type": "code",
      "source": [
        "vectorizer.stop_words_"
      ],
      "metadata": {
        "id": "eHmG2RgZCrJT"
      },
      "execution_count": null,
      "outputs": []
    },
    {
      "cell_type": "code",
      "source": [
        "for i in dic_vocabulary:\n",
        "  if dic_vocabulary[i] == 8311:\n",
        "    print(i)"
      ],
      "metadata": {
        "id": "5FfHmM2ECrPi"
      },
      "execution_count": null,
      "outputs": []
    },
    {
      "cell_type": "code",
      "source": [
        "vectorizer = feature_extraction.text.CountVectorizer()"
      ],
      "metadata": {
        "id": "IlKMg-a8C-ik"
      },
      "execution_count": null,
      "outputs": []
    },
    {
      "cell_type": "code",
      "source": [
        "X = vectorizer.fit_transform(X_train)"
      ],
      "metadata": {
        "id": "YDc8PuabDBd2"
      },
      "execution_count": null,
      "outputs": []
    },
    {
      "cell_type": "code",
      "source": [
        "X"
      ],
      "metadata": {
        "id": "b7KDJGziDDiz"
      },
      "execution_count": null,
      "outputs": []
    },
    {
      "cell_type": "markdown",
      "source": [
        "## Word tokenization\n"
      ],
      "metadata": {
        "id": "dB5BqSBhcVBx"
      }
    },
    {
      "cell_type": "code",
      "source": [
        "import nltk\n",
        "import re\n",
        "\n",
        "nltk.download('punkt')"
      ],
      "metadata": {
        "colab": {
          "base_uri": "https://localhost:8080/"
        },
        "id": "yhajZuh2E8Zb",
        "outputId": "8edcf7d7-cc66-44a7-9c8c-9a0dcb7ed78a"
      },
      "execution_count": null,
      "outputs": [
        {
          "output_type": "stream",
          "name": "stderr",
          "text": [
            "[nltk_data] Downloading package punkt to /root/nltk_data...\n",
            "[nltk_data]   Package punkt is already up-to-date!\n"
          ]
        },
        {
          "output_type": "execute_result",
          "data": {
            "text/plain": [
              "True"
            ]
          },
          "metadata": {},
          "execution_count": 127
        }
      ]
    },
    {
      "cell_type": "code",
      "source": [
        "tokenized = {}\n",
        "tokenized[\"activity_subtype\"] = dfcopy[\"activity_subtype\"].values\n",
        "tokenized[\"text_stem\"] = [nltk.tokenize.word_tokenize(sentence) for sentence in dfcopy[\"text_stem\"].values]"
      ],
      "metadata": {
        "id": "p7eguGQaG6qC"
      },
      "execution_count": null,
      "outputs": []
    },
    {
      "cell_type": "code",
      "source": [
        "tokenized_df = pd.DataFrame(tokenized)"
      ],
      "metadata": {
        "id": "cQoZYvmSHYG0"
      },
      "execution_count": null,
      "outputs": []
    },
    {
      "cell_type": "markdown",
      "source": [
        "## Word2Vec embedding\n"
      ],
      "metadata": {
        "id": "Ktih3MUUtvVM"
      }
    },
    {
      "cell_type": "code",
      "source": [
        "# mapping and dropping nan values\n",
        "\n",
        "map = {\n",
        "\"Program\":        0,\n",
        "\"Display\":        1,\n",
        "\"BTB\":            2,\n",
        "\"Search\":         3,\n",
        "\"Holiday\":        4,\n",
        "\"BTS\":            5,\n",
        "\"Email\":          6,\n",
        "\"Digital\":        7,\n",
        "\"Trad_media\":     8\n",
        "}\n",
        "\n",
        "tokenized_df['activity_subtype']= tokenized_df['activity_subtype'].map(map)\n",
        "\n",
        "\n",
        "tokenized_df = tokenized_df.dropna(subset=['activity_subtype'])\n",
        "tokenized_df = tokenized_df.reset_index().drop(columns=[\"index\"])\n",
        "tokenized_df[1:30]"
      ],
      "metadata": {
        "id": "0OrXFZPIFzX_",
        "colab": {
          "base_uri": "https://localhost:8080/",
          "height": 948
        },
        "outputId": "6375a274-53ca-4e7e-f497-26f04c89ea20"
      },
      "execution_count": null,
      "outputs": [
        {
          "output_type": "execute_result",
          "data": {
            "text/plain": [
              "    activity_subtype                                         text_stem\n",
              "1                1.0            [costco, com, c2, 22, nb, ir, program]\n",
              "2                1.0            [costco, com, c2, 22, nb, ir, program]\n",
              "3                0.0          [q118, hps, toner, privat, offer, rebat]\n",
              "4                0.0             [q118, op, ink, privat, offer, rebat]\n",
              "5                2.0          [deskjet, 3752, btb, 18, price, protect]\n",
              "6                2.0             [envi, 4512, btb, 18, price, protect]\n",
              "7                0.0              [q118, opston, privat, offer, rebat]\n",
              "8                0.0             [q118, op, ink, privat, offer, rebat]\n",
              "9                0.0             [q118, op, ink, privat, offer, rebat]\n",
              "10               0.0             [q218, op, ink, privat, offer, rebat]\n",
              "11               0.0             [q218, op, ink, privat, offer, rebat]\n",
              "12               0.0             [q218, op, ink, privat, offer, rebat]\n",
              "13               0.0             [q218, op, ink, privat, offer, rebat]\n",
              "14               0.0     [hps, envi, 4520, eol, 40, ir, 3500u, addtnl]\n",
              "15               0.0           [op, ljp, m426fdn, sell, thru, program]\n",
              "16               0.0                      [q418, cx, op, ink, program]\n",
              "17               0.0                     [q418, cx, hps, ink, program]\n",
              "18               0.0                      [q418, cx, op, ink, program]\n",
              "19               0.0                     [q418, cx, hps, ink, program]\n",
              "20               0.0              [trade, in, and, recycl, inkjet, h2]\n",
              "21               0.0              [trade, in, and, recycl, inkjet, h2]\n",
              "22               0.0  [best, buy, instant, ink, 1, month, free, offer]\n",
              "23               0.0  [best, buy, instant, ink, 1, month, free, offer]\n",
              "24               0.0  [best, buy, instant, ink, 1, month, free, offer]\n",
              "25               0.0                  [cp, asp, hsc, event, ojp, 6975]\n",
              "26               0.0                      [bundl, program, fy, 19, h2]\n",
              "27               0.0              [trade, in, and, recycl, inkjet, h2]\n",
              "28               0.0              [trade, in, and, recycl, inkjet, h2]\n",
              "29               0.0              [trade, in, and, recycl, inkjet, h2]"
            ],
            "text/html": [
              "\n",
              "  <div id=\"df-1ebef494-8168-4f9e-b2a0-7d7aa3d3f895\">\n",
              "    <div class=\"colab-df-container\">\n",
              "      <div>\n",
              "<style scoped>\n",
              "    .dataframe tbody tr th:only-of-type {\n",
              "        vertical-align: middle;\n",
              "    }\n",
              "\n",
              "    .dataframe tbody tr th {\n",
              "        vertical-align: top;\n",
              "    }\n",
              "\n",
              "    .dataframe thead th {\n",
              "        text-align: right;\n",
              "    }\n",
              "</style>\n",
              "<table border=\"1\" class=\"dataframe\">\n",
              "  <thead>\n",
              "    <tr style=\"text-align: right;\">\n",
              "      <th></th>\n",
              "      <th>activity_subtype</th>\n",
              "      <th>text_stem</th>\n",
              "    </tr>\n",
              "  </thead>\n",
              "  <tbody>\n",
              "    <tr>\n",
              "      <th>1</th>\n",
              "      <td>1.0</td>\n",
              "      <td>[costco, com, c2, 22, nb, ir, program]</td>\n",
              "    </tr>\n",
              "    <tr>\n",
              "      <th>2</th>\n",
              "      <td>1.0</td>\n",
              "      <td>[costco, com, c2, 22, nb, ir, program]</td>\n",
              "    </tr>\n",
              "    <tr>\n",
              "      <th>3</th>\n",
              "      <td>0.0</td>\n",
              "      <td>[q118, hps, toner, privat, offer, rebat]</td>\n",
              "    </tr>\n",
              "    <tr>\n",
              "      <th>4</th>\n",
              "      <td>0.0</td>\n",
              "      <td>[q118, op, ink, privat, offer, rebat]</td>\n",
              "    </tr>\n",
              "    <tr>\n",
              "      <th>5</th>\n",
              "      <td>2.0</td>\n",
              "      <td>[deskjet, 3752, btb, 18, price, protect]</td>\n",
              "    </tr>\n",
              "    <tr>\n",
              "      <th>6</th>\n",
              "      <td>2.0</td>\n",
              "      <td>[envi, 4512, btb, 18, price, protect]</td>\n",
              "    </tr>\n",
              "    <tr>\n",
              "      <th>7</th>\n",
              "      <td>0.0</td>\n",
              "      <td>[q118, opston, privat, offer, rebat]</td>\n",
              "    </tr>\n",
              "    <tr>\n",
              "      <th>8</th>\n",
              "      <td>0.0</td>\n",
              "      <td>[q118, op, ink, privat, offer, rebat]</td>\n",
              "    </tr>\n",
              "    <tr>\n",
              "      <th>9</th>\n",
              "      <td>0.0</td>\n",
              "      <td>[q118, op, ink, privat, offer, rebat]</td>\n",
              "    </tr>\n",
              "    <tr>\n",
              "      <th>10</th>\n",
              "      <td>0.0</td>\n",
              "      <td>[q218, op, ink, privat, offer, rebat]</td>\n",
              "    </tr>\n",
              "    <tr>\n",
              "      <th>11</th>\n",
              "      <td>0.0</td>\n",
              "      <td>[q218, op, ink, privat, offer, rebat]</td>\n",
              "    </tr>\n",
              "    <tr>\n",
              "      <th>12</th>\n",
              "      <td>0.0</td>\n",
              "      <td>[q218, op, ink, privat, offer, rebat]</td>\n",
              "    </tr>\n",
              "    <tr>\n",
              "      <th>13</th>\n",
              "      <td>0.0</td>\n",
              "      <td>[q218, op, ink, privat, offer, rebat]</td>\n",
              "    </tr>\n",
              "    <tr>\n",
              "      <th>14</th>\n",
              "      <td>0.0</td>\n",
              "      <td>[hps, envi, 4520, eol, 40, ir, 3500u, addtnl]</td>\n",
              "    </tr>\n",
              "    <tr>\n",
              "      <th>15</th>\n",
              "      <td>0.0</td>\n",
              "      <td>[op, ljp, m426fdn, sell, thru, program]</td>\n",
              "    </tr>\n",
              "    <tr>\n",
              "      <th>16</th>\n",
              "      <td>0.0</td>\n",
              "      <td>[q418, cx, op, ink, program]</td>\n",
              "    </tr>\n",
              "    <tr>\n",
              "      <th>17</th>\n",
              "      <td>0.0</td>\n",
              "      <td>[q418, cx, hps, ink, program]</td>\n",
              "    </tr>\n",
              "    <tr>\n",
              "      <th>18</th>\n",
              "      <td>0.0</td>\n",
              "      <td>[q418, cx, op, ink, program]</td>\n",
              "    </tr>\n",
              "    <tr>\n",
              "      <th>19</th>\n",
              "      <td>0.0</td>\n",
              "      <td>[q418, cx, hps, ink, program]</td>\n",
              "    </tr>\n",
              "    <tr>\n",
              "      <th>20</th>\n",
              "      <td>0.0</td>\n",
              "      <td>[trade, in, and, recycl, inkjet, h2]</td>\n",
              "    </tr>\n",
              "    <tr>\n",
              "      <th>21</th>\n",
              "      <td>0.0</td>\n",
              "      <td>[trade, in, and, recycl, inkjet, h2]</td>\n",
              "    </tr>\n",
              "    <tr>\n",
              "      <th>22</th>\n",
              "      <td>0.0</td>\n",
              "      <td>[best, buy, instant, ink, 1, month, free, offer]</td>\n",
              "    </tr>\n",
              "    <tr>\n",
              "      <th>23</th>\n",
              "      <td>0.0</td>\n",
              "      <td>[best, buy, instant, ink, 1, month, free, offer]</td>\n",
              "    </tr>\n",
              "    <tr>\n",
              "      <th>24</th>\n",
              "      <td>0.0</td>\n",
              "      <td>[best, buy, instant, ink, 1, month, free, offer]</td>\n",
              "    </tr>\n",
              "    <tr>\n",
              "      <th>25</th>\n",
              "      <td>0.0</td>\n",
              "      <td>[cp, asp, hsc, event, ojp, 6975]</td>\n",
              "    </tr>\n",
              "    <tr>\n",
              "      <th>26</th>\n",
              "      <td>0.0</td>\n",
              "      <td>[bundl, program, fy, 19, h2]</td>\n",
              "    </tr>\n",
              "    <tr>\n",
              "      <th>27</th>\n",
              "      <td>0.0</td>\n",
              "      <td>[trade, in, and, recycl, inkjet, h2]</td>\n",
              "    </tr>\n",
              "    <tr>\n",
              "      <th>28</th>\n",
              "      <td>0.0</td>\n",
              "      <td>[trade, in, and, recycl, inkjet, h2]</td>\n",
              "    </tr>\n",
              "    <tr>\n",
              "      <th>29</th>\n",
              "      <td>0.0</td>\n",
              "      <td>[trade, in, and, recycl, inkjet, h2]</td>\n",
              "    </tr>\n",
              "  </tbody>\n",
              "</table>\n",
              "</div>\n",
              "      <button class=\"colab-df-convert\" onclick=\"convertToInteractive('df-1ebef494-8168-4f9e-b2a0-7d7aa3d3f895')\"\n",
              "              title=\"Convert this dataframe to an interactive table.\"\n",
              "              style=\"display:none;\">\n",
              "        \n",
              "  <svg xmlns=\"http://www.w3.org/2000/svg\" height=\"24px\"viewBox=\"0 0 24 24\"\n",
              "       width=\"24px\">\n",
              "    <path d=\"M0 0h24v24H0V0z\" fill=\"none\"/>\n",
              "    <path d=\"M18.56 5.44l.94 2.06.94-2.06 2.06-.94-2.06-.94-.94-2.06-.94 2.06-2.06.94zm-11 1L8.5 8.5l.94-2.06 2.06-.94-2.06-.94L8.5 2.5l-.94 2.06-2.06.94zm10 10l.94 2.06.94-2.06 2.06-.94-2.06-.94-.94-2.06-.94 2.06-2.06.94z\"/><path d=\"M17.41 7.96l-1.37-1.37c-.4-.4-.92-.59-1.43-.59-.52 0-1.04.2-1.43.59L10.3 9.45l-7.72 7.72c-.78.78-.78 2.05 0 2.83L4 21.41c.39.39.9.59 1.41.59.51 0 1.02-.2 1.41-.59l7.78-7.78 2.81-2.81c.8-.78.8-2.07 0-2.86zM5.41 20L4 18.59l7.72-7.72 1.47 1.35L5.41 20z\"/>\n",
              "  </svg>\n",
              "      </button>\n",
              "      \n",
              "  <style>\n",
              "    .colab-df-container {\n",
              "      display:flex;\n",
              "      flex-wrap:wrap;\n",
              "      gap: 12px;\n",
              "    }\n",
              "\n",
              "    .colab-df-convert {\n",
              "      background-color: #E8F0FE;\n",
              "      border: none;\n",
              "      border-radius: 50%;\n",
              "      cursor: pointer;\n",
              "      display: none;\n",
              "      fill: #1967D2;\n",
              "      height: 32px;\n",
              "      padding: 0 0 0 0;\n",
              "      width: 32px;\n",
              "    }\n",
              "\n",
              "    .colab-df-convert:hover {\n",
              "      background-color: #E2EBFA;\n",
              "      box-shadow: 0px 1px 2px rgba(60, 64, 67, 0.3), 0px 1px 3px 1px rgba(60, 64, 67, 0.15);\n",
              "      fill: #174EA6;\n",
              "    }\n",
              "\n",
              "    [theme=dark] .colab-df-convert {\n",
              "      background-color: #3B4455;\n",
              "      fill: #D2E3FC;\n",
              "    }\n",
              "\n",
              "    [theme=dark] .colab-df-convert:hover {\n",
              "      background-color: #434B5C;\n",
              "      box-shadow: 0px 1px 3px 1px rgba(0, 0, 0, 0.15);\n",
              "      filter: drop-shadow(0px 1px 2px rgba(0, 0, 0, 0.3));\n",
              "      fill: #FFFFFF;\n",
              "    }\n",
              "  </style>\n",
              "\n",
              "      <script>\n",
              "        const buttonEl =\n",
              "          document.querySelector('#df-1ebef494-8168-4f9e-b2a0-7d7aa3d3f895 button.colab-df-convert');\n",
              "        buttonEl.style.display =\n",
              "          google.colab.kernel.accessAllowed ? 'block' : 'none';\n",
              "\n",
              "        async function convertToInteractive(key) {\n",
              "          const element = document.querySelector('#df-1ebef494-8168-4f9e-b2a0-7d7aa3d3f895');\n",
              "          const dataTable =\n",
              "            await google.colab.kernel.invokeFunction('convertToInteractive',\n",
              "                                                     [key], {});\n",
              "          if (!dataTable) return;\n",
              "\n",
              "          const docLinkHtml = 'Like what you see? Visit the ' +\n",
              "            '<a target=\"_blank\" href=https://colab.research.google.com/notebooks/data_table.ipynb>data table notebook</a>'\n",
              "            + ' to learn more about interactive tables.';\n",
              "          element.innerHTML = '';\n",
              "          dataTable['output_type'] = 'display_data';\n",
              "          await google.colab.output.renderOutput(dataTable, element);\n",
              "          const docLink = document.createElement('div');\n",
              "          docLink.innerHTML = docLinkHtml;\n",
              "          element.appendChild(docLink);\n",
              "        }\n",
              "      </script>\n",
              "    </div>\n",
              "  </div>\n",
              "  "
            ]
          },
          "metadata": {},
          "execution_count": 130
        }
      ]
    },
    {
      "cell_type": "code",
      "source": [
        "#model_params\n",
        "\n",
        "#word2vec\n",
        "vector_size = 100\n",
        "window = 3\n",
        "min_count = 2\n",
        "use_sg = 0\n",
        "\n",
        "#random forest\n",
        "max_depth = 3"
      ],
      "metadata": {
        "id": "if5qWywYN_ds"
      },
      "execution_count": null,
      "outputs": []
    },
    {
      "cell_type": "code",
      "source": [
        "# data set split\n",
        "\n",
        "from sklearn.model_selection import train_test_split\n",
        "\n",
        "X_train, X_test, y_train, y_test = train_test_split (tokenized_df['text_stem'], tokenized_df['activity_subtype'] , test_size=0.2)"
      ],
      "metadata": {
        "id": "i5h28itV8CkY"
      },
      "execution_count": null,
      "outputs": []
    },
    {
      "cell_type": "code",
      "source": [
        "#word2vec model\n",
        "\n",
        "import gensim\n",
        "\n",
        "w2v_model = gensim.models.Word2Vec(X_train,\n",
        "                                   vector_size=vector_size,\n",
        "                                   window=window,\n",
        "                                   min_count=min_count,\n",
        "                                   sg=use_sg)"
      ],
      "metadata": {
        "id": "Hb7S9fIj8pDK",
        "colab": {
          "base_uri": "https://localhost:8080/",
          "height": 232
        },
        "outputId": "88c6e594-40b6-4f4d-d452-890027fc57f6"
      },
      "execution_count": null,
      "outputs": [
        {
          "output_type": "error",
          "ename": "NameError",
          "evalue": "ignored",
          "traceback": [
            "\u001b[0;31m---------------------------------------------------------------------------\u001b[0m",
            "\u001b[0;31mNameError\u001b[0m                                 Traceback (most recent call last)",
            "\u001b[0;32m<ipython-input-1-730d6fd460d4>\u001b[0m in \u001b[0;36m<cell line: 5>\u001b[0;34m()\u001b[0m\n\u001b[1;32m      3\u001b[0m \u001b[0;32mimport\u001b[0m \u001b[0mgensim\u001b[0m\u001b[0;34m\u001b[0m\u001b[0;34m\u001b[0m\u001b[0m\n\u001b[1;32m      4\u001b[0m \u001b[0;34m\u001b[0m\u001b[0m\n\u001b[0;32m----> 5\u001b[0;31m w2v_model = gensim.models.Word2Vec(X_train,\n\u001b[0m\u001b[1;32m      6\u001b[0m                                    \u001b[0mvector_size\u001b[0m\u001b[0;34m=\u001b[0m\u001b[0mvector_size\u001b[0m\u001b[0;34m,\u001b[0m\u001b[0;34m\u001b[0m\u001b[0;34m\u001b[0m\u001b[0m\n\u001b[1;32m      7\u001b[0m                                    \u001b[0mwindow\u001b[0m\u001b[0;34m=\u001b[0m\u001b[0mwindow\u001b[0m\u001b[0;34m,\u001b[0m\u001b[0;34m\u001b[0m\u001b[0;34m\u001b[0m\u001b[0m\n",
            "\u001b[0;31mNameError\u001b[0m: name 'X_train' is not defined"
          ]
        }
      ]
    },
    {
      "cell_type": "markdown",
      "source": [
        "# Data classification\n"
      ],
      "metadata": {
        "id": "X5NkEFfbch1E"
      }
    },
    {
      "cell_type": "code",
      "source": [
        "# data set adjustments for classifier\n",
        "\n",
        "words = set(w2v_model.wv.index_to_key )\n",
        "X_train_vect = np.array([np.array([w2v_model.wv[i] for i in ls if i in words]) for ls in X_train])\n",
        "X_test_vect = np.array([np.array([w2v_model.wv[i] for i in ls if i in words]) for ls in X_test])\n",
        "\n",
        "# averaging words into sentence\n",
        "\n",
        "X_train_vect_avg = []\n",
        "for v in X_train_vect:\n",
        "    if v.size:\n",
        "        X_train_vect_avg.append(v.mean(axis=0))\n",
        "    else:\n",
        "        X_train_vect_avg.append(np.zeros(vector_size, dtype=float))\n",
        "        \n",
        "X_test_vect_avg = []\n",
        "\n",
        "for v in X_test_vect:\n",
        "    if v.size:\n",
        "        X_test_vect_avg.append(v.mean(axis=0))\n",
        "    else:\n",
        "        X_test_vect_avg.append(np.zeros(vector_size, dtype=float))"
      ],
      "metadata": {
        "id": "lFDR5qgC_Ud7",
        "colab": {
          "base_uri": "https://localhost:8080/"
        },
        "outputId": "3442bf07-7454-4948-cb92-812ef9dadb29"
      },
      "execution_count": null,
      "outputs": [
        {
          "output_type": "stream",
          "name": "stderr",
          "text": [
            "<ipython-input-141-6d0e9d2dbd91>:4: VisibleDeprecationWarning: Creating an ndarray from ragged nested sequences (which is a list-or-tuple of lists-or-tuples-or ndarrays with different lengths or shapes) is deprecated. If you meant to do this, you must specify 'dtype=object' when creating the ndarray.\n",
            "  X_train_vect = np.array([np.array([w2v_model.wv[i] for i in ls if i in words]) for ls in X_train])\n",
            "<ipython-input-141-6d0e9d2dbd91>:5: VisibleDeprecationWarning: Creating an ndarray from ragged nested sequences (which is a list-or-tuple of lists-or-tuples-or ndarrays with different lengths or shapes) is deprecated. If you meant to do this, you must specify 'dtype=object' when creating the ndarray.\n",
            "  X_test_vect = np.array([np.array([w2v_model.wv[i] for i in ls if i in words]) for ls in X_test])\n"
          ]
        }
      ]
    },
    {
      "cell_type": "code",
      "source": [
        "from sklearn.tree import DecisionTreeClassifier\n",
        "from sklearn.ensemble import RandomForestClassifier\n",
        "from sklearn.neighbors import KNeighborsClassifier\n",
        "from sklearn.cluster import KMeans\n",
        "from sklearn.svm import SVC\n",
        "\n",
        "from sklearn.model_selection import cross_val_score\n",
        "from sklearn.metrics import accuracy_score"
      ],
      "metadata": {
        "id": "bjGmW3824dEj"
      },
      "execution_count": null,
      "outputs": []
    },
    {
      "cell_type": "code",
      "source": [
        "def models_eval(classifiers, Xtrain, Xtest, ytrain, ytest):\n",
        "  results = {}\n",
        "  for classifier in classifiers:\n",
        "    if classifier in [\"k-means\"]:\n",
        "      ypred = classifiers[classifier].fit(Xtrain).predict(Xtest)\n",
        "    else:\n",
        "      ypred = classifiers[classifier].fit(Xtrain, ytrain).predict(Xtest)\n",
        "    results[classifier] = {\n",
        "        \"predictions\" : ypred,\n",
        "        \"accuracy\" : accuracy_score(ytest, ypred)\n",
        "                           }\n",
        "  return results"
      ],
      "metadata": {
        "id": "KeJbYgvLqipv"
      },
      "execution_count": null,
      "outputs": []
    },
    {
      "cell_type": "code",
      "source": [
        "classifiers = {\n",
        "    \"Random Forest\" : RandomForestClassifier(max_depth=max_depth, random_state=0),\n",
        "    \"Decision Tree\" : DecisionTreeClassifier(),\n",
        "    \"K-nearest Neighbor\" : KNeighborsClassifier(n_neighbors = 10),\n",
        "    \"Support Vector\" : SVC(kernel='linear'),\n",
        "    \"K-means\" : KMeans(n_clusters=len(np.unique(y_train)))\n",
        "}\n",
        "\n",
        "results = models_eval(classifiers, X_train_vect_avg, X_test_vect_avg, y_train, y_test)\n",
        "\n",
        "for i in results:\n",
        "  print(i, \"accuracy\", results[i][\"accuracy\"])"
      ],
      "metadata": {
        "colab": {
          "base_uri": "https://localhost:8080/",
          "height": 232
        },
        "id": "Jm38R8Jys8Mk",
        "outputId": "4add5144-3c58-4e83-ca43-38c045cef968"
      },
      "execution_count": null,
      "outputs": [
        {
          "output_type": "error",
          "ename": "NameError",
          "evalue": "ignored",
          "traceback": [
            "\u001b[0;31m---------------------------------------------------------------------------\u001b[0m",
            "\u001b[0;31mNameError\u001b[0m                                 Traceback (most recent call last)",
            "\u001b[0;32m<ipython-input-28-564c2a60b6be>\u001b[0m in \u001b[0;36m<cell line: 9>\u001b[0;34m()\u001b[0m\n\u001b[1;32m      7\u001b[0m }\n\u001b[1;32m      8\u001b[0m \u001b[0;34m\u001b[0m\u001b[0m\n\u001b[0;32m----> 9\u001b[0;31m \u001b[0mresults\u001b[0m \u001b[0;34m=\u001b[0m \u001b[0mmodels_eval\u001b[0m\u001b[0;34m(\u001b[0m\u001b[0mclassifiers\u001b[0m\u001b[0;34m,\u001b[0m \u001b[0mX_train_vect_avg\u001b[0m\u001b[0;34m,\u001b[0m \u001b[0mX_test_vect_avg\u001b[0m\u001b[0;34m,\u001b[0m \u001b[0my_train\u001b[0m\u001b[0;34m,\u001b[0m \u001b[0my_test\u001b[0m\u001b[0;34m)\u001b[0m\u001b[0;34m\u001b[0m\u001b[0;34m\u001b[0m\u001b[0m\n\u001b[0m\u001b[1;32m     10\u001b[0m \u001b[0;34m\u001b[0m\u001b[0m\n\u001b[1;32m     11\u001b[0m \u001b[0;32mfor\u001b[0m \u001b[0mi\u001b[0m \u001b[0;32min\u001b[0m \u001b[0mresults\u001b[0m\u001b[0;34m:\u001b[0m\u001b[0;34m\u001b[0m\u001b[0;34m\u001b[0m\u001b[0m\n",
            "\u001b[0;31mNameError\u001b[0m: name 'X_train_vect_avg' is not defined"
          ]
        }
      ]
    },
    {
      "cell_type": "markdown",
      "source": [
        "## CROSS VALIDATION APPROACH"
      ],
      "metadata": {
        "id": "BGaCbRx2JREf"
      }
    },
    {
      "cell_type": "code",
      "source": [
        "\n",
        "  def models_eval(classifiers, X, y, k_folds):\n",
        "    results = {}\n",
        "    for classifier in classifiers:\n",
        "      if classifier in [\"k-means\"]:\n",
        "        pass\n",
        "      else:\n",
        "        results[classifier] = cross_val_score(classifiers[classifier], X, y, cv=k_folds)\n",
        "    return results"
      ],
      "metadata": {
        "id": "UnbL0iFXJQch"
      },
      "execution_count": null,
      "outputs": []
    },
    {
      "cell_type": "code",
      "source": [
        "y = tokenized_df['activity_subtype']\n",
        "\n",
        "# data set adjustments for classifier\n",
        "\n",
        "X = np.array([np.array([w2v_model.wv[i] for i in ls if i in words]) for ls in tokenized_df['text_stem']])\n",
        "\n",
        "# averaging words into sentence\n",
        "\n",
        "X_vect_avg = []\n",
        "\n",
        "for v in X:\n",
        "    if v.size:\n",
        "        X_vect_avg.append(v.mean(axis=0))\n",
        "    else:\n",
        "        X_vect_avg.append(np.zeros(vector_size, dtype=float))"
      ],
      "metadata": {
        "colab": {
          "base_uri": "https://localhost:8080/"
        },
        "id": "qTyraC4kJWGM",
        "outputId": "83d1527d-af86-4201-e263-cf6763785619"
      },
      "execution_count": null,
      "outputs": [
        {
          "output_type": "stream",
          "name": "stderr",
          "text": [
            "<ipython-input-145-3a4a0246c688>:5: VisibleDeprecationWarning: Creating an ndarray from ragged nested sequences (which is a list-or-tuple of lists-or-tuples-or ndarrays with different lengths or shapes) is deprecated. If you meant to do this, you must specify 'dtype=object' when creating the ndarray.\n",
            "  X = np.array([np.array([w2v_model.wv[i] for i in ls if i in words]) for ls in tokenized_df['text_stem']])\n"
          ]
        }
      ]
    },
    {
      "cell_type": "code",
      "source": [
        "classifiers = {\n",
        "    \"Random Forest\" : RandomForestClassifier(max_depth=max_depth, random_state=0),\n",
        "    \"Decision Tree\" : DecisionTreeClassifier(),\n",
        "    \"K-nearest Neighbor\" : KNeighborsClassifier(n_neighbors = 10),\n",
        "    \"Support Vector\" : SVC(kernel='linear'),\n",
        "    \"K-means\" : KMeans(n_clusters=len(np.unique(y_train)))\n",
        "}\n",
        "\n",
        "classifiers = {\n",
        "    \"K-nearest Neighbor\" : KNeighborsClassifier(n_neighbors = 5,p=3),\n",
        "}\n",
        "\n",
        "\n",
        "results = models_eval(classifiers, X_vect_avg, y, 8)\n",
        "\n",
        "for i in results:\n",
        "  print(i, \"accuracy\", results[i])"
      ],
      "metadata": {
        "colab": {
          "base_uri": "https://localhost:8080/",
          "height": 375
        },
        "id": "sNwjmUs2KDnc",
        "outputId": "28c1aeb7-b161-48b5-a8d9-46c0b114ae65"
      },
      "execution_count": null,
      "outputs": [
        {
          "output_type": "error",
          "ename": "KeyboardInterrupt",
          "evalue": "ignored",
          "traceback": [
            "\u001b[0;31m---------------------------------------------------------------------------\u001b[0m",
            "\u001b[0;31mKeyboardInterrupt\u001b[0m                         Traceback (most recent call last)",
            "\u001b[0;32m<ipython-input-146-333578292f2c>\u001b[0m in \u001b[0;36m<cell line: 14>\u001b[0;34m()\u001b[0m\n\u001b[1;32m     12\u001b[0m \u001b[0;34m\u001b[0m\u001b[0m\n\u001b[1;32m     13\u001b[0m \u001b[0;34m\u001b[0m\u001b[0m\n\u001b[0;32m---> 14\u001b[0;31m \u001b[0mresults\u001b[0m \u001b[0;34m=\u001b[0m \u001b[0mmodels_eval\u001b[0m\u001b[0;34m(\u001b[0m\u001b[0mclassifiers\u001b[0m\u001b[0;34m,\u001b[0m \u001b[0mX_vect_avg\u001b[0m\u001b[0;34m,\u001b[0m \u001b[0my\u001b[0m\u001b[0;34m,\u001b[0m \u001b[0;36m8\u001b[0m\u001b[0;34m)\u001b[0m\u001b[0;34m\u001b[0m\u001b[0;34m\u001b[0m\u001b[0m\n\u001b[0m\u001b[1;32m     15\u001b[0m \u001b[0;34m\u001b[0m\u001b[0m\n\u001b[1;32m     16\u001b[0m \u001b[0;32mfor\u001b[0m \u001b[0mi\u001b[0m \u001b[0;32min\u001b[0m \u001b[0mresults\u001b[0m\u001b[0;34m:\u001b[0m\u001b[0;34m\u001b[0m\u001b[0;34m\u001b[0m\u001b[0m\n",
            "\u001b[0;32m<ipython-input-144-f4004431817c>\u001b[0m in \u001b[0;36mmodels_eval\u001b[0;34m(classifiers, X, y, k_folds)\u001b[0m\n\u001b[1;32m      5\u001b[0m       \u001b[0;32mpass\u001b[0m\u001b[0;34m\u001b[0m\u001b[0;34m\u001b[0m\u001b[0m\n\u001b[1;32m      6\u001b[0m     \u001b[0;32melse\u001b[0m\u001b[0;34m:\u001b[0m\u001b[0;34m\u001b[0m\u001b[0;34m\u001b[0m\u001b[0m\n\u001b[0;32m----> 7\u001b[0;31m       \u001b[0mresults\u001b[0m\u001b[0;34m[\u001b[0m\u001b[0mclassifier\u001b[0m\u001b[0;34m]\u001b[0m \u001b[0;34m=\u001b[0m \u001b[0mcross_val_score\u001b[0m\u001b[0;34m(\u001b[0m\u001b[0mclassifiers\u001b[0m\u001b[0;34m[\u001b[0m\u001b[0mclassifier\u001b[0m\u001b[0;34m]\u001b[0m\u001b[0;34m,\u001b[0m \u001b[0mX\u001b[0m\u001b[0;34m,\u001b[0m \u001b[0my\u001b[0m\u001b[0;34m,\u001b[0m \u001b[0mcv\u001b[0m\u001b[0;34m=\u001b[0m\u001b[0mk_folds\u001b[0m\u001b[0;34m)\u001b[0m\u001b[0;34m\u001b[0m\u001b[0;34m\u001b[0m\u001b[0m\n\u001b[0m\u001b[1;32m      8\u001b[0m   \u001b[0;32mreturn\u001b[0m \u001b[0mresults\u001b[0m\u001b[0;34m\u001b[0m\u001b[0;34m\u001b[0m\u001b[0m\n",
            "\u001b[0;32m/usr/local/lib/python3.10/dist-packages/sklearn/model_selection/_validation.py\u001b[0m in \u001b[0;36mcross_val_score\u001b[0;34m(estimator, X, y, groups, scoring, cv, n_jobs, verbose, fit_params, pre_dispatch, error_score)\u001b[0m\n\u001b[1;32m    513\u001b[0m     \u001b[0mscorer\u001b[0m \u001b[0;34m=\u001b[0m \u001b[0mcheck_scoring\u001b[0m\u001b[0;34m(\u001b[0m\u001b[0mestimator\u001b[0m\u001b[0;34m,\u001b[0m \u001b[0mscoring\u001b[0m\u001b[0;34m=\u001b[0m\u001b[0mscoring\u001b[0m\u001b[0;34m)\u001b[0m\u001b[0;34m\u001b[0m\u001b[0;34m\u001b[0m\u001b[0m\n\u001b[1;32m    514\u001b[0m \u001b[0;34m\u001b[0m\u001b[0m\n\u001b[0;32m--> 515\u001b[0;31m     cv_results = cross_validate(\n\u001b[0m\u001b[1;32m    516\u001b[0m         \u001b[0mestimator\u001b[0m\u001b[0;34m=\u001b[0m\u001b[0mestimator\u001b[0m\u001b[0;34m,\u001b[0m\u001b[0;34m\u001b[0m\u001b[0;34m\u001b[0m\u001b[0m\n\u001b[1;32m    517\u001b[0m         \u001b[0mX\u001b[0m\u001b[0;34m=\u001b[0m\u001b[0mX\u001b[0m\u001b[0;34m,\u001b[0m\u001b[0;34m\u001b[0m\u001b[0;34m\u001b[0m\u001b[0m\n",
            "\u001b[0;32m/usr/local/lib/python3.10/dist-packages/sklearn/model_selection/_validation.py\u001b[0m in \u001b[0;36mcross_validate\u001b[0;34m(estimator, X, y, groups, scoring, cv, n_jobs, verbose, fit_params, pre_dispatch, return_train_score, return_estimator, error_score)\u001b[0m\n\u001b[1;32m    264\u001b[0m     \u001b[0;31m# independent, and that it is pickle-able.\u001b[0m\u001b[0;34m\u001b[0m\u001b[0;34m\u001b[0m\u001b[0m\n\u001b[1;32m    265\u001b[0m     \u001b[0mparallel\u001b[0m \u001b[0;34m=\u001b[0m \u001b[0mParallel\u001b[0m\u001b[0;34m(\u001b[0m\u001b[0mn_jobs\u001b[0m\u001b[0;34m=\u001b[0m\u001b[0mn_jobs\u001b[0m\u001b[0;34m,\u001b[0m \u001b[0mverbose\u001b[0m\u001b[0;34m=\u001b[0m\u001b[0mverbose\u001b[0m\u001b[0;34m,\u001b[0m \u001b[0mpre_dispatch\u001b[0m\u001b[0;34m=\u001b[0m\u001b[0mpre_dispatch\u001b[0m\u001b[0;34m)\u001b[0m\u001b[0;34m\u001b[0m\u001b[0;34m\u001b[0m\u001b[0m\n\u001b[0;32m--> 266\u001b[0;31m     results = parallel(\n\u001b[0m\u001b[1;32m    267\u001b[0m         delayed(_fit_and_score)(\n\u001b[1;32m    268\u001b[0m             \u001b[0mclone\u001b[0m\u001b[0;34m(\u001b[0m\u001b[0mestimator\u001b[0m\u001b[0;34m)\u001b[0m\u001b[0;34m,\u001b[0m\u001b[0;34m\u001b[0m\u001b[0;34m\u001b[0m\u001b[0m\n",
            "\u001b[0;32m/usr/local/lib/python3.10/dist-packages/sklearn/utils/parallel.py\u001b[0m in \u001b[0;36m__call__\u001b[0;34m(self, iterable)\u001b[0m\n\u001b[1;32m     61\u001b[0m             \u001b[0;32mfor\u001b[0m \u001b[0mdelayed_func\u001b[0m\u001b[0;34m,\u001b[0m \u001b[0margs\u001b[0m\u001b[0;34m,\u001b[0m \u001b[0mkwargs\u001b[0m \u001b[0;32min\u001b[0m \u001b[0miterable\u001b[0m\u001b[0;34m\u001b[0m\u001b[0;34m\u001b[0m\u001b[0m\n\u001b[1;32m     62\u001b[0m         )\n\u001b[0;32m---> 63\u001b[0;31m         \u001b[0;32mreturn\u001b[0m \u001b[0msuper\u001b[0m\u001b[0;34m(\u001b[0m\u001b[0;34m)\u001b[0m\u001b[0;34m.\u001b[0m\u001b[0m__call__\u001b[0m\u001b[0;34m(\u001b[0m\u001b[0miterable_with_config\u001b[0m\u001b[0;34m)\u001b[0m\u001b[0;34m\u001b[0m\u001b[0;34m\u001b[0m\u001b[0m\n\u001b[0m\u001b[1;32m     64\u001b[0m \u001b[0;34m\u001b[0m\u001b[0m\n\u001b[1;32m     65\u001b[0m \u001b[0;34m\u001b[0m\u001b[0m\n",
            "\u001b[0;32m/usr/local/lib/python3.10/dist-packages/joblib/parallel.py\u001b[0m in \u001b[0;36m__call__\u001b[0;34m(self, iterable)\u001b[0m\n\u001b[1;32m   1083\u001b[0m             \u001b[0;31m# remaining jobs.\u001b[0m\u001b[0;34m\u001b[0m\u001b[0;34m\u001b[0m\u001b[0m\n\u001b[1;32m   1084\u001b[0m             \u001b[0mself\u001b[0m\u001b[0;34m.\u001b[0m\u001b[0m_iterating\u001b[0m \u001b[0;34m=\u001b[0m \u001b[0;32mFalse\u001b[0m\u001b[0;34m\u001b[0m\u001b[0;34m\u001b[0m\u001b[0m\n\u001b[0;32m-> 1085\u001b[0;31m             \u001b[0;32mif\u001b[0m \u001b[0mself\u001b[0m\u001b[0;34m.\u001b[0m\u001b[0mdispatch_one_batch\u001b[0m\u001b[0;34m(\u001b[0m\u001b[0miterator\u001b[0m\u001b[0;34m)\u001b[0m\u001b[0;34m:\u001b[0m\u001b[0;34m\u001b[0m\u001b[0;34m\u001b[0m\u001b[0m\n\u001b[0m\u001b[1;32m   1086\u001b[0m                 \u001b[0mself\u001b[0m\u001b[0;34m.\u001b[0m\u001b[0m_iterating\u001b[0m \u001b[0;34m=\u001b[0m \u001b[0mself\u001b[0m\u001b[0;34m.\u001b[0m\u001b[0m_original_iterator\u001b[0m \u001b[0;32mis\u001b[0m \u001b[0;32mnot\u001b[0m \u001b[0;32mNone\u001b[0m\u001b[0;34m\u001b[0m\u001b[0;34m\u001b[0m\u001b[0m\n\u001b[1;32m   1087\u001b[0m \u001b[0;34m\u001b[0m\u001b[0m\n",
            "\u001b[0;32m/usr/local/lib/python3.10/dist-packages/joblib/parallel.py\u001b[0m in \u001b[0;36mdispatch_one_batch\u001b[0;34m(self, iterator)\u001b[0m\n\u001b[1;32m    899\u001b[0m                 \u001b[0;32mreturn\u001b[0m \u001b[0;32mFalse\u001b[0m\u001b[0;34m\u001b[0m\u001b[0;34m\u001b[0m\u001b[0m\n\u001b[1;32m    900\u001b[0m             \u001b[0;32melse\u001b[0m\u001b[0;34m:\u001b[0m\u001b[0;34m\u001b[0m\u001b[0;34m\u001b[0m\u001b[0m\n\u001b[0;32m--> 901\u001b[0;31m                 \u001b[0mself\u001b[0m\u001b[0;34m.\u001b[0m\u001b[0m_dispatch\u001b[0m\u001b[0;34m(\u001b[0m\u001b[0mtasks\u001b[0m\u001b[0;34m)\u001b[0m\u001b[0;34m\u001b[0m\u001b[0;34m\u001b[0m\u001b[0m\n\u001b[0m\u001b[1;32m    902\u001b[0m                 \u001b[0;32mreturn\u001b[0m \u001b[0;32mTrue\u001b[0m\u001b[0;34m\u001b[0m\u001b[0;34m\u001b[0m\u001b[0m\n\u001b[1;32m    903\u001b[0m \u001b[0;34m\u001b[0m\u001b[0m\n",
            "\u001b[0;32m/usr/local/lib/python3.10/dist-packages/joblib/parallel.py\u001b[0m in \u001b[0;36m_dispatch\u001b[0;34m(self, batch)\u001b[0m\n\u001b[1;32m    817\u001b[0m         \u001b[0;32mwith\u001b[0m \u001b[0mself\u001b[0m\u001b[0;34m.\u001b[0m\u001b[0m_lock\u001b[0m\u001b[0;34m:\u001b[0m\u001b[0;34m\u001b[0m\u001b[0;34m\u001b[0m\u001b[0m\n\u001b[1;32m    818\u001b[0m             \u001b[0mjob_idx\u001b[0m \u001b[0;34m=\u001b[0m \u001b[0mlen\u001b[0m\u001b[0;34m(\u001b[0m\u001b[0mself\u001b[0m\u001b[0;34m.\u001b[0m\u001b[0m_jobs\u001b[0m\u001b[0;34m)\u001b[0m\u001b[0;34m\u001b[0m\u001b[0;34m\u001b[0m\u001b[0m\n\u001b[0;32m--> 819\u001b[0;31m             \u001b[0mjob\u001b[0m \u001b[0;34m=\u001b[0m \u001b[0mself\u001b[0m\u001b[0;34m.\u001b[0m\u001b[0m_backend\u001b[0m\u001b[0;34m.\u001b[0m\u001b[0mapply_async\u001b[0m\u001b[0;34m(\u001b[0m\u001b[0mbatch\u001b[0m\u001b[0;34m,\u001b[0m \u001b[0mcallback\u001b[0m\u001b[0;34m=\u001b[0m\u001b[0mcb\u001b[0m\u001b[0;34m)\u001b[0m\u001b[0;34m\u001b[0m\u001b[0;34m\u001b[0m\u001b[0m\n\u001b[0m\u001b[1;32m    820\u001b[0m             \u001b[0;31m# A job can complete so quickly than its callback is\u001b[0m\u001b[0;34m\u001b[0m\u001b[0;34m\u001b[0m\u001b[0m\n\u001b[1;32m    821\u001b[0m             \u001b[0;31m# called before we get here, causing self._jobs to\u001b[0m\u001b[0;34m\u001b[0m\u001b[0;34m\u001b[0m\u001b[0m\n",
            "\u001b[0;32m/usr/local/lib/python3.10/dist-packages/joblib/_parallel_backends.py\u001b[0m in \u001b[0;36mapply_async\u001b[0;34m(self, func, callback)\u001b[0m\n\u001b[1;32m    206\u001b[0m     \u001b[0;32mdef\u001b[0m \u001b[0mapply_async\u001b[0m\u001b[0;34m(\u001b[0m\u001b[0mself\u001b[0m\u001b[0;34m,\u001b[0m \u001b[0mfunc\u001b[0m\u001b[0;34m,\u001b[0m \u001b[0mcallback\u001b[0m\u001b[0;34m=\u001b[0m\u001b[0;32mNone\u001b[0m\u001b[0;34m)\u001b[0m\u001b[0;34m:\u001b[0m\u001b[0;34m\u001b[0m\u001b[0;34m\u001b[0m\u001b[0m\n\u001b[1;32m    207\u001b[0m         \u001b[0;34m\"\"\"Schedule a func to be run\"\"\"\u001b[0m\u001b[0;34m\u001b[0m\u001b[0;34m\u001b[0m\u001b[0m\n\u001b[0;32m--> 208\u001b[0;31m         \u001b[0mresult\u001b[0m \u001b[0;34m=\u001b[0m \u001b[0mImmediateResult\u001b[0m\u001b[0;34m(\u001b[0m\u001b[0mfunc\u001b[0m\u001b[0;34m)\u001b[0m\u001b[0;34m\u001b[0m\u001b[0;34m\u001b[0m\u001b[0m\n\u001b[0m\u001b[1;32m    209\u001b[0m         \u001b[0;32mif\u001b[0m \u001b[0mcallback\u001b[0m\u001b[0;34m:\u001b[0m\u001b[0;34m\u001b[0m\u001b[0;34m\u001b[0m\u001b[0m\n\u001b[1;32m    210\u001b[0m             \u001b[0mcallback\u001b[0m\u001b[0;34m(\u001b[0m\u001b[0mresult\u001b[0m\u001b[0;34m)\u001b[0m\u001b[0;34m\u001b[0m\u001b[0;34m\u001b[0m\u001b[0m\n",
            "\u001b[0;32m/usr/local/lib/python3.10/dist-packages/joblib/_parallel_backends.py\u001b[0m in \u001b[0;36m__init__\u001b[0;34m(self, batch)\u001b[0m\n\u001b[1;32m    595\u001b[0m         \u001b[0;31m# Don't delay the application, to avoid keeping the input\u001b[0m\u001b[0;34m\u001b[0m\u001b[0;34m\u001b[0m\u001b[0m\n\u001b[1;32m    596\u001b[0m         \u001b[0;31m# arguments in memory\u001b[0m\u001b[0;34m\u001b[0m\u001b[0;34m\u001b[0m\u001b[0m\n\u001b[0;32m--> 597\u001b[0;31m         \u001b[0mself\u001b[0m\u001b[0;34m.\u001b[0m\u001b[0mresults\u001b[0m \u001b[0;34m=\u001b[0m \u001b[0mbatch\u001b[0m\u001b[0;34m(\u001b[0m\u001b[0;34m)\u001b[0m\u001b[0;34m\u001b[0m\u001b[0;34m\u001b[0m\u001b[0m\n\u001b[0m\u001b[1;32m    598\u001b[0m \u001b[0;34m\u001b[0m\u001b[0m\n\u001b[1;32m    599\u001b[0m     \u001b[0;32mdef\u001b[0m \u001b[0mget\u001b[0m\u001b[0;34m(\u001b[0m\u001b[0mself\u001b[0m\u001b[0;34m)\u001b[0m\u001b[0;34m:\u001b[0m\u001b[0;34m\u001b[0m\u001b[0;34m\u001b[0m\u001b[0m\n",
            "\u001b[0;32m/usr/local/lib/python3.10/dist-packages/joblib/parallel.py\u001b[0m in \u001b[0;36m__call__\u001b[0;34m(self)\u001b[0m\n\u001b[1;32m    286\u001b[0m         \u001b[0;31m# change the default number of processes to -1\u001b[0m\u001b[0;34m\u001b[0m\u001b[0;34m\u001b[0m\u001b[0m\n\u001b[1;32m    287\u001b[0m         \u001b[0;32mwith\u001b[0m \u001b[0mparallel_backend\u001b[0m\u001b[0;34m(\u001b[0m\u001b[0mself\u001b[0m\u001b[0;34m.\u001b[0m\u001b[0m_backend\u001b[0m\u001b[0;34m,\u001b[0m \u001b[0mn_jobs\u001b[0m\u001b[0;34m=\u001b[0m\u001b[0mself\u001b[0m\u001b[0;34m.\u001b[0m\u001b[0m_n_jobs\u001b[0m\u001b[0;34m)\u001b[0m\u001b[0;34m:\u001b[0m\u001b[0;34m\u001b[0m\u001b[0;34m\u001b[0m\u001b[0m\n\u001b[0;32m--> 288\u001b[0;31m             return [func(*args, **kwargs)\n\u001b[0m\u001b[1;32m    289\u001b[0m                     for func, args, kwargs in self.items]\n\u001b[1;32m    290\u001b[0m \u001b[0;34m\u001b[0m\u001b[0m\n",
            "\u001b[0;32m/usr/local/lib/python3.10/dist-packages/joblib/parallel.py\u001b[0m in \u001b[0;36m<listcomp>\u001b[0;34m(.0)\u001b[0m\n\u001b[1;32m    286\u001b[0m         \u001b[0;31m# change the default number of processes to -1\u001b[0m\u001b[0;34m\u001b[0m\u001b[0;34m\u001b[0m\u001b[0m\n\u001b[1;32m    287\u001b[0m         \u001b[0;32mwith\u001b[0m \u001b[0mparallel_backend\u001b[0m\u001b[0;34m(\u001b[0m\u001b[0mself\u001b[0m\u001b[0;34m.\u001b[0m\u001b[0m_backend\u001b[0m\u001b[0;34m,\u001b[0m \u001b[0mn_jobs\u001b[0m\u001b[0;34m=\u001b[0m\u001b[0mself\u001b[0m\u001b[0;34m.\u001b[0m\u001b[0m_n_jobs\u001b[0m\u001b[0;34m)\u001b[0m\u001b[0;34m:\u001b[0m\u001b[0;34m\u001b[0m\u001b[0;34m\u001b[0m\u001b[0m\n\u001b[0;32m--> 288\u001b[0;31m             return [func(*args, **kwargs)\n\u001b[0m\u001b[1;32m    289\u001b[0m                     for func, args, kwargs in self.items]\n\u001b[1;32m    290\u001b[0m \u001b[0;34m\u001b[0m\u001b[0m\n",
            "\u001b[0;32m/usr/local/lib/python3.10/dist-packages/sklearn/utils/parallel.py\u001b[0m in \u001b[0;36m__call__\u001b[0;34m(self, *args, **kwargs)\u001b[0m\n\u001b[1;32m    121\u001b[0m             \u001b[0mconfig\u001b[0m \u001b[0;34m=\u001b[0m \u001b[0;34m{\u001b[0m\u001b[0;34m}\u001b[0m\u001b[0;34m\u001b[0m\u001b[0;34m\u001b[0m\u001b[0m\n\u001b[1;32m    122\u001b[0m         \u001b[0;32mwith\u001b[0m \u001b[0mconfig_context\u001b[0m\u001b[0;34m(\u001b[0m\u001b[0;34m**\u001b[0m\u001b[0mconfig\u001b[0m\u001b[0;34m)\u001b[0m\u001b[0;34m:\u001b[0m\u001b[0;34m\u001b[0m\u001b[0;34m\u001b[0m\u001b[0m\n\u001b[0;32m--> 123\u001b[0;31m             \u001b[0;32mreturn\u001b[0m \u001b[0mself\u001b[0m\u001b[0;34m.\u001b[0m\u001b[0mfunction\u001b[0m\u001b[0;34m(\u001b[0m\u001b[0;34m*\u001b[0m\u001b[0margs\u001b[0m\u001b[0;34m,\u001b[0m \u001b[0;34m**\u001b[0m\u001b[0mkwargs\u001b[0m\u001b[0;34m)\u001b[0m\u001b[0;34m\u001b[0m\u001b[0;34m\u001b[0m\u001b[0m\n\u001b[0m",
            "\u001b[0;32m/usr/local/lib/python3.10/dist-packages/sklearn/model_selection/_validation.py\u001b[0m in \u001b[0;36m_fit_and_score\u001b[0;34m(estimator, X, y, scorer, train, test, verbose, parameters, fit_params, return_train_score, return_parameters, return_n_test_samples, return_times, return_estimator, split_progress, candidate_progress, error_score)\u001b[0m\n\u001b[1;32m    706\u001b[0m \u001b[0;34m\u001b[0m\u001b[0m\n\u001b[1;32m    707\u001b[0m         \u001b[0mfit_time\u001b[0m \u001b[0;34m=\u001b[0m \u001b[0mtime\u001b[0m\u001b[0;34m.\u001b[0m\u001b[0mtime\u001b[0m\u001b[0;34m(\u001b[0m\u001b[0;34m)\u001b[0m \u001b[0;34m-\u001b[0m \u001b[0mstart_time\u001b[0m\u001b[0;34m\u001b[0m\u001b[0;34m\u001b[0m\u001b[0m\n\u001b[0;32m--> 708\u001b[0;31m         \u001b[0mtest_scores\u001b[0m \u001b[0;34m=\u001b[0m \u001b[0m_score\u001b[0m\u001b[0;34m(\u001b[0m\u001b[0mestimator\u001b[0m\u001b[0;34m,\u001b[0m \u001b[0mX_test\u001b[0m\u001b[0;34m,\u001b[0m \u001b[0my_test\u001b[0m\u001b[0;34m,\u001b[0m \u001b[0mscorer\u001b[0m\u001b[0;34m,\u001b[0m \u001b[0merror_score\u001b[0m\u001b[0;34m)\u001b[0m\u001b[0;34m\u001b[0m\u001b[0;34m\u001b[0m\u001b[0m\n\u001b[0m\u001b[1;32m    709\u001b[0m         \u001b[0mscore_time\u001b[0m \u001b[0;34m=\u001b[0m \u001b[0mtime\u001b[0m\u001b[0;34m.\u001b[0m\u001b[0mtime\u001b[0m\u001b[0;34m(\u001b[0m\u001b[0;34m)\u001b[0m \u001b[0;34m-\u001b[0m \u001b[0mstart_time\u001b[0m \u001b[0;34m-\u001b[0m \u001b[0mfit_time\u001b[0m\u001b[0;34m\u001b[0m\u001b[0;34m\u001b[0m\u001b[0m\n\u001b[1;32m    710\u001b[0m         \u001b[0;32mif\u001b[0m \u001b[0mreturn_train_score\u001b[0m\u001b[0;34m:\u001b[0m\u001b[0;34m\u001b[0m\u001b[0;34m\u001b[0m\u001b[0m\n",
            "\u001b[0;32m/usr/local/lib/python3.10/dist-packages/sklearn/model_selection/_validation.py\u001b[0m in \u001b[0;36m_score\u001b[0;34m(estimator, X_test, y_test, scorer, error_score)\u001b[0m\n\u001b[1;32m    765\u001b[0m             \u001b[0mscores\u001b[0m \u001b[0;34m=\u001b[0m \u001b[0mscorer\u001b[0m\u001b[0;34m(\u001b[0m\u001b[0mestimator\u001b[0m\u001b[0;34m,\u001b[0m \u001b[0mX_test\u001b[0m\u001b[0;34m)\u001b[0m\u001b[0;34m\u001b[0m\u001b[0;34m\u001b[0m\u001b[0m\n\u001b[1;32m    766\u001b[0m         \u001b[0;32melse\u001b[0m\u001b[0;34m:\u001b[0m\u001b[0;34m\u001b[0m\u001b[0;34m\u001b[0m\u001b[0m\n\u001b[0;32m--> 767\u001b[0;31m             \u001b[0mscores\u001b[0m \u001b[0;34m=\u001b[0m \u001b[0mscorer\u001b[0m\u001b[0;34m(\u001b[0m\u001b[0mestimator\u001b[0m\u001b[0;34m,\u001b[0m \u001b[0mX_test\u001b[0m\u001b[0;34m,\u001b[0m \u001b[0my_test\u001b[0m\u001b[0;34m)\u001b[0m\u001b[0;34m\u001b[0m\u001b[0;34m\u001b[0m\u001b[0m\n\u001b[0m\u001b[1;32m    768\u001b[0m     \u001b[0;32mexcept\u001b[0m \u001b[0mException\u001b[0m\u001b[0;34m:\u001b[0m\u001b[0;34m\u001b[0m\u001b[0;34m\u001b[0m\u001b[0m\n\u001b[1;32m    769\u001b[0m         \u001b[0;32mif\u001b[0m \u001b[0misinstance\u001b[0m\u001b[0;34m(\u001b[0m\u001b[0mscorer\u001b[0m\u001b[0;34m,\u001b[0m \u001b[0m_MultimetricScorer\u001b[0m\u001b[0;34m)\u001b[0m\u001b[0;34m:\u001b[0m\u001b[0;34m\u001b[0m\u001b[0;34m\u001b[0m\u001b[0m\n",
            "\u001b[0;32m/usr/local/lib/python3.10/dist-packages/sklearn/metrics/_scorer.py\u001b[0m in \u001b[0;36m__call__\u001b[0;34m(self, estimator, *args, **kwargs)\u001b[0m\n\u001b[1;32m    115\u001b[0m                     \u001b[0mscore\u001b[0m \u001b[0;34m=\u001b[0m \u001b[0mscorer\u001b[0m\u001b[0;34m.\u001b[0m\u001b[0m_score\u001b[0m\u001b[0;34m(\u001b[0m\u001b[0mcached_call\u001b[0m\u001b[0;34m,\u001b[0m \u001b[0mestimator\u001b[0m\u001b[0;34m,\u001b[0m \u001b[0;34m*\u001b[0m\u001b[0margs\u001b[0m\u001b[0;34m,\u001b[0m \u001b[0;34m**\u001b[0m\u001b[0mkwargs\u001b[0m\u001b[0;34m)\u001b[0m\u001b[0;34m\u001b[0m\u001b[0;34m\u001b[0m\u001b[0m\n\u001b[1;32m    116\u001b[0m                 \u001b[0;32melse\u001b[0m\u001b[0;34m:\u001b[0m\u001b[0;34m\u001b[0m\u001b[0;34m\u001b[0m\u001b[0m\n\u001b[0;32m--> 117\u001b[0;31m                     \u001b[0mscore\u001b[0m \u001b[0;34m=\u001b[0m \u001b[0mscorer\u001b[0m\u001b[0;34m(\u001b[0m\u001b[0mestimator\u001b[0m\u001b[0;34m,\u001b[0m \u001b[0;34m*\u001b[0m\u001b[0margs\u001b[0m\u001b[0;34m,\u001b[0m \u001b[0;34m**\u001b[0m\u001b[0mkwargs\u001b[0m\u001b[0;34m)\u001b[0m\u001b[0;34m\u001b[0m\u001b[0;34m\u001b[0m\u001b[0m\n\u001b[0m\u001b[1;32m    118\u001b[0m                 \u001b[0mscores\u001b[0m\u001b[0;34m[\u001b[0m\u001b[0mname\u001b[0m\u001b[0;34m]\u001b[0m \u001b[0;34m=\u001b[0m \u001b[0mscore\u001b[0m\u001b[0;34m\u001b[0m\u001b[0;34m\u001b[0m\u001b[0m\n\u001b[1;32m    119\u001b[0m             \u001b[0;32mexcept\u001b[0m \u001b[0mException\u001b[0m \u001b[0;32mas\u001b[0m \u001b[0me\u001b[0m\u001b[0;34m:\u001b[0m\u001b[0;34m\u001b[0m\u001b[0;34m\u001b[0m\u001b[0m\n",
            "\u001b[0;32m/usr/local/lib/python3.10/dist-packages/sklearn/metrics/_scorer.py\u001b[0m in \u001b[0;36m_passthrough_scorer\u001b[0;34m(estimator, *args, **kwargs)\u001b[0m\n\u001b[1;32m    442\u001b[0m \u001b[0;32mdef\u001b[0m \u001b[0m_passthrough_scorer\u001b[0m\u001b[0;34m(\u001b[0m\u001b[0mestimator\u001b[0m\u001b[0;34m,\u001b[0m \u001b[0;34m*\u001b[0m\u001b[0margs\u001b[0m\u001b[0;34m,\u001b[0m \u001b[0;34m**\u001b[0m\u001b[0mkwargs\u001b[0m\u001b[0;34m)\u001b[0m\u001b[0;34m:\u001b[0m\u001b[0;34m\u001b[0m\u001b[0;34m\u001b[0m\u001b[0m\n\u001b[1;32m    443\u001b[0m     \u001b[0;34m\"\"\"Function that wraps estimator.score\"\"\"\u001b[0m\u001b[0;34m\u001b[0m\u001b[0;34m\u001b[0m\u001b[0m\n\u001b[0;32m--> 444\u001b[0;31m     \u001b[0;32mreturn\u001b[0m \u001b[0mestimator\u001b[0m\u001b[0;34m.\u001b[0m\u001b[0mscore\u001b[0m\u001b[0;34m(\u001b[0m\u001b[0;34m*\u001b[0m\u001b[0margs\u001b[0m\u001b[0;34m,\u001b[0m \u001b[0;34m**\u001b[0m\u001b[0mkwargs\u001b[0m\u001b[0;34m)\u001b[0m\u001b[0;34m\u001b[0m\u001b[0;34m\u001b[0m\u001b[0m\n\u001b[0m\u001b[1;32m    445\u001b[0m \u001b[0;34m\u001b[0m\u001b[0m\n\u001b[1;32m    446\u001b[0m \u001b[0;34m\u001b[0m\u001b[0m\n",
            "\u001b[0;32m/usr/local/lib/python3.10/dist-packages/sklearn/base.py\u001b[0m in \u001b[0;36mscore\u001b[0;34m(self, X, y, sample_weight)\u001b[0m\n\u001b[1;32m    666\u001b[0m         \u001b[0;32mfrom\u001b[0m \u001b[0;34m.\u001b[0m\u001b[0mmetrics\u001b[0m \u001b[0;32mimport\u001b[0m \u001b[0maccuracy_score\u001b[0m\u001b[0;34m\u001b[0m\u001b[0;34m\u001b[0m\u001b[0m\n\u001b[1;32m    667\u001b[0m \u001b[0;34m\u001b[0m\u001b[0m\n\u001b[0;32m--> 668\u001b[0;31m         \u001b[0;32mreturn\u001b[0m \u001b[0maccuracy_score\u001b[0m\u001b[0;34m(\u001b[0m\u001b[0my\u001b[0m\u001b[0;34m,\u001b[0m \u001b[0mself\u001b[0m\u001b[0;34m.\u001b[0m\u001b[0mpredict\u001b[0m\u001b[0;34m(\u001b[0m\u001b[0mX\u001b[0m\u001b[0;34m)\u001b[0m\u001b[0;34m,\u001b[0m \u001b[0msample_weight\u001b[0m\u001b[0;34m=\u001b[0m\u001b[0msample_weight\u001b[0m\u001b[0;34m)\u001b[0m\u001b[0;34m\u001b[0m\u001b[0;34m\u001b[0m\u001b[0m\n\u001b[0m\u001b[1;32m    669\u001b[0m \u001b[0;34m\u001b[0m\u001b[0m\n\u001b[1;32m    670\u001b[0m     \u001b[0;32mdef\u001b[0m \u001b[0m_more_tags\u001b[0m\u001b[0;34m(\u001b[0m\u001b[0mself\u001b[0m\u001b[0;34m)\u001b[0m\u001b[0;34m:\u001b[0m\u001b[0;34m\u001b[0m\u001b[0;34m\u001b[0m\u001b[0m\n",
            "\u001b[0;32m/usr/local/lib/python3.10/dist-packages/sklearn/neighbors/_classification.py\u001b[0m in \u001b[0;36mpredict\u001b[0;34m(self, X)\u001b[0m\n\u001b[1;32m    232\u001b[0m             \u001b[0;31m# In that case, we do not need the distances to perform\u001b[0m\u001b[0;34m\u001b[0m\u001b[0;34m\u001b[0m\u001b[0m\n\u001b[1;32m    233\u001b[0m             \u001b[0;31m# the weighting so we do not compute them.\u001b[0m\u001b[0;34m\u001b[0m\u001b[0;34m\u001b[0m\u001b[0m\n\u001b[0;32m--> 234\u001b[0;31m             \u001b[0mneigh_ind\u001b[0m \u001b[0;34m=\u001b[0m \u001b[0mself\u001b[0m\u001b[0;34m.\u001b[0m\u001b[0mkneighbors\u001b[0m\u001b[0;34m(\u001b[0m\u001b[0mX\u001b[0m\u001b[0;34m,\u001b[0m \u001b[0mreturn_distance\u001b[0m\u001b[0;34m=\u001b[0m\u001b[0;32mFalse\u001b[0m\u001b[0;34m)\u001b[0m\u001b[0;34m\u001b[0m\u001b[0;34m\u001b[0m\u001b[0m\n\u001b[0m\u001b[1;32m    235\u001b[0m             \u001b[0mneigh_dist\u001b[0m \u001b[0;34m=\u001b[0m \u001b[0;32mNone\u001b[0m\u001b[0;34m\u001b[0m\u001b[0;34m\u001b[0m\u001b[0m\n\u001b[1;32m    236\u001b[0m         \u001b[0;32melse\u001b[0m\u001b[0;34m:\u001b[0m\u001b[0;34m\u001b[0m\u001b[0;34m\u001b[0m\u001b[0m\n",
            "\u001b[0;32m/usr/local/lib/python3.10/dist-packages/sklearn/neighbors/_base.py\u001b[0m in \u001b[0;36mkneighbors\u001b[0;34m(self, X, n_neighbors, return_distance)\u001b[0m\n\u001b[1;32m    859\u001b[0m                 \u001b[0mkwds\u001b[0m \u001b[0;34m=\u001b[0m \u001b[0mself\u001b[0m\u001b[0;34m.\u001b[0m\u001b[0meffective_metric_params_\u001b[0m\u001b[0;34m\u001b[0m\u001b[0;34m\u001b[0m\u001b[0m\n\u001b[1;32m    860\u001b[0m \u001b[0;34m\u001b[0m\u001b[0m\n\u001b[0;32m--> 861\u001b[0;31m             chunked_results = list(\n\u001b[0m\u001b[1;32m    862\u001b[0m                 pairwise_distances_chunked(\n\u001b[1;32m    863\u001b[0m                     \u001b[0mX\u001b[0m\u001b[0;34m,\u001b[0m\u001b[0;34m\u001b[0m\u001b[0;34m\u001b[0m\u001b[0m\n",
            "\u001b[0;32m/usr/local/lib/python3.10/dist-packages/sklearn/metrics/pairwise.py\u001b[0m in \u001b[0;36mpairwise_distances_chunked\u001b[0;34m(X, Y, reduce_func, metric, n_jobs, working_memory, **kwds)\u001b[0m\n\u001b[1;32m   1865\u001b[0m         \u001b[0;32melse\u001b[0m\u001b[0;34m:\u001b[0m\u001b[0;34m\u001b[0m\u001b[0;34m\u001b[0m\u001b[0m\n\u001b[1;32m   1866\u001b[0m             \u001b[0mX_chunk\u001b[0m \u001b[0;34m=\u001b[0m \u001b[0mX\u001b[0m\u001b[0;34m[\u001b[0m\u001b[0msl\u001b[0m\u001b[0;34m]\u001b[0m\u001b[0;34m\u001b[0m\u001b[0;34m\u001b[0m\u001b[0m\n\u001b[0;32m-> 1867\u001b[0;31m         \u001b[0mD_chunk\u001b[0m \u001b[0;34m=\u001b[0m \u001b[0mpairwise_distances\u001b[0m\u001b[0;34m(\u001b[0m\u001b[0mX_chunk\u001b[0m\u001b[0;34m,\u001b[0m \u001b[0mY\u001b[0m\u001b[0;34m,\u001b[0m \u001b[0mmetric\u001b[0m\u001b[0;34m=\u001b[0m\u001b[0mmetric\u001b[0m\u001b[0;34m,\u001b[0m \u001b[0mn_jobs\u001b[0m\u001b[0;34m=\u001b[0m\u001b[0mn_jobs\u001b[0m\u001b[0;34m,\u001b[0m \u001b[0;34m**\u001b[0m\u001b[0mkwds\u001b[0m\u001b[0;34m)\u001b[0m\u001b[0;34m\u001b[0m\u001b[0;34m\u001b[0m\u001b[0m\n\u001b[0m\u001b[1;32m   1868\u001b[0m         if (X is Y or Y is None) and PAIRWISE_DISTANCE_FUNCTIONS.get(\n\u001b[1;32m   1869\u001b[0m             \u001b[0mmetric\u001b[0m\u001b[0;34m,\u001b[0m \u001b[0;32mNone\u001b[0m\u001b[0;34m\u001b[0m\u001b[0;34m\u001b[0m\u001b[0m\n",
            "\u001b[0;32m/usr/local/lib/python3.10/dist-packages/sklearn/metrics/pairwise.py\u001b[0m in \u001b[0;36mpairwise_distances\u001b[0;34m(X, Y, metric, n_jobs, force_all_finite, **kwds)\u001b[0m\n\u001b[1;32m   2037\u001b[0m         \u001b[0mfunc\u001b[0m \u001b[0;34m=\u001b[0m \u001b[0mpartial\u001b[0m\u001b[0;34m(\u001b[0m\u001b[0mdistance\u001b[0m\u001b[0;34m.\u001b[0m\u001b[0mcdist\u001b[0m\u001b[0;34m,\u001b[0m \u001b[0mmetric\u001b[0m\u001b[0;34m=\u001b[0m\u001b[0mmetric\u001b[0m\u001b[0;34m,\u001b[0m \u001b[0;34m**\u001b[0m\u001b[0mkwds\u001b[0m\u001b[0;34m)\u001b[0m\u001b[0;34m\u001b[0m\u001b[0;34m\u001b[0m\u001b[0m\n\u001b[1;32m   2038\u001b[0m \u001b[0;34m\u001b[0m\u001b[0m\n\u001b[0;32m-> 2039\u001b[0;31m     \u001b[0;32mreturn\u001b[0m \u001b[0m_parallel_pairwise\u001b[0m\u001b[0;34m(\u001b[0m\u001b[0mX\u001b[0m\u001b[0;34m,\u001b[0m \u001b[0mY\u001b[0m\u001b[0;34m,\u001b[0m \u001b[0mfunc\u001b[0m\u001b[0;34m,\u001b[0m \u001b[0mn_jobs\u001b[0m\u001b[0;34m,\u001b[0m \u001b[0;34m**\u001b[0m\u001b[0mkwds\u001b[0m\u001b[0;34m)\u001b[0m\u001b[0;34m\u001b[0m\u001b[0;34m\u001b[0m\u001b[0m\n\u001b[0m\u001b[1;32m   2040\u001b[0m \u001b[0;34m\u001b[0m\u001b[0m\n\u001b[1;32m   2041\u001b[0m \u001b[0;34m\u001b[0m\u001b[0m\n",
            "\u001b[0;32m/usr/local/lib/python3.10/dist-packages/sklearn/metrics/pairwise.py\u001b[0m in \u001b[0;36m_parallel_pairwise\u001b[0;34m(X, Y, func, n_jobs, **kwds)\u001b[0m\n\u001b[1;32m   1577\u001b[0m \u001b[0;34m\u001b[0m\u001b[0m\n\u001b[1;32m   1578\u001b[0m     \u001b[0;32mif\u001b[0m \u001b[0meffective_n_jobs\u001b[0m\u001b[0;34m(\u001b[0m\u001b[0mn_jobs\u001b[0m\u001b[0;34m)\u001b[0m \u001b[0;34m==\u001b[0m \u001b[0;36m1\u001b[0m\u001b[0;34m:\u001b[0m\u001b[0;34m\u001b[0m\u001b[0;34m\u001b[0m\u001b[0m\n\u001b[0;32m-> 1579\u001b[0;31m         \u001b[0;32mreturn\u001b[0m \u001b[0mfunc\u001b[0m\u001b[0;34m(\u001b[0m\u001b[0mX\u001b[0m\u001b[0;34m,\u001b[0m \u001b[0mY\u001b[0m\u001b[0;34m,\u001b[0m \u001b[0;34m**\u001b[0m\u001b[0mkwds\u001b[0m\u001b[0;34m)\u001b[0m\u001b[0;34m\u001b[0m\u001b[0;34m\u001b[0m\u001b[0m\n\u001b[0m\u001b[1;32m   1580\u001b[0m \u001b[0;34m\u001b[0m\u001b[0m\n\u001b[1;32m   1581\u001b[0m     \u001b[0;31m# enforce a threading backend to prevent data communication overhead\u001b[0m\u001b[0;34m\u001b[0m\u001b[0;34m\u001b[0m\u001b[0m\n",
            "\u001b[0;32m/usr/local/lib/python3.10/dist-packages/scipy/spatial/distance.py\u001b[0m in \u001b[0;36mcdist\u001b[0;34m(XA, XB, metric, out, **kwargs)\u001b[0m\n\u001b[1;32m   2937\u001b[0m         \u001b[0;32mif\u001b[0m \u001b[0mmetric_info\u001b[0m \u001b[0;32mis\u001b[0m \u001b[0;32mnot\u001b[0m \u001b[0;32mNone\u001b[0m\u001b[0;34m:\u001b[0m\u001b[0;34m\u001b[0m\u001b[0;34m\u001b[0m\u001b[0m\n\u001b[1;32m   2938\u001b[0m             \u001b[0mcdist_fn\u001b[0m \u001b[0;34m=\u001b[0m \u001b[0mmetric_info\u001b[0m\u001b[0;34m.\u001b[0m\u001b[0mcdist_func\u001b[0m\u001b[0;34m\u001b[0m\u001b[0;34m\u001b[0m\u001b[0m\n\u001b[0;32m-> 2939\u001b[0;31m             \u001b[0;32mreturn\u001b[0m \u001b[0mcdist_fn\u001b[0m\u001b[0;34m(\u001b[0m\u001b[0mXA\u001b[0m\u001b[0;34m,\u001b[0m \u001b[0mXB\u001b[0m\u001b[0;34m,\u001b[0m \u001b[0mout\u001b[0m\u001b[0;34m=\u001b[0m\u001b[0mout\u001b[0m\u001b[0;34m,\u001b[0m \u001b[0;34m**\u001b[0m\u001b[0mkwargs\u001b[0m\u001b[0;34m)\u001b[0m\u001b[0;34m\u001b[0m\u001b[0;34m\u001b[0m\u001b[0m\n\u001b[0m\u001b[1;32m   2940\u001b[0m         \u001b[0;32melif\u001b[0m \u001b[0mmstr\u001b[0m\u001b[0;34m.\u001b[0m\u001b[0mstartswith\u001b[0m\u001b[0;34m(\u001b[0m\u001b[0;34m\"test_\"\u001b[0m\u001b[0;34m)\u001b[0m\u001b[0;34m:\u001b[0m\u001b[0;34m\u001b[0m\u001b[0;34m\u001b[0m\u001b[0m\n\u001b[1;32m   2941\u001b[0m             \u001b[0mmetric_info\u001b[0m \u001b[0;34m=\u001b[0m \u001b[0m_TEST_METRICS\u001b[0m\u001b[0;34m.\u001b[0m\u001b[0mget\u001b[0m\u001b[0;34m(\u001b[0m\u001b[0mmstr\u001b[0m\u001b[0;34m,\u001b[0m \u001b[0;32mNone\u001b[0m\u001b[0;34m)\u001b[0m\u001b[0;34m\u001b[0m\u001b[0;34m\u001b[0m\u001b[0m\n",
            "\u001b[0;31mKeyboardInterrupt\u001b[0m: "
          ]
        }
      ]
    },
    {
      "cell_type": "code",
      "source": [
        "for i in results:\n",
        "  print(i, np.average(results[i]))"
      ],
      "metadata": {
        "colab": {
          "base_uri": "https://localhost:8080/"
        },
        "id": "IAEr7nfJLOa1",
        "outputId": "fb122f70-23e9-467c-85c5-4b655a2df083"
      },
      "execution_count": null,
      "outputs": [
        {
          "output_type": "stream",
          "name": "stdout",
          "text": [
            "K-nearest Neighbor1 0.9011814345991562\n",
            "K-nearest Neighbor2 0.9020253164556962\n",
            "K-nearest Neighbor3 0.9037130801687763\n",
            "K-nearest Neighbor4 0.90168776371308\n"
          ]
        }
      ]
    },
    {
      "cell_type": "markdown",
      "source": [
        "## K-means \n"
      ],
      "metadata": {
        "id": "yijmwKUjQsS6"
      }
    },
    {
      "cell_type": "code",
      "source": [
        "import matplotlib.pyplot as plt\n",
        "from sklearn.cluster import KMeans\n",
        "%matplotlib inline \n",
        "\n",
        "distortions = []\n",
        "K = range(1,20)\n",
        "for k in K:\n",
        "    kmeanModel = KMeans(n_clusters=k, algorithm=\"elkan\").fit(X_vect_avg)\n",
        "    distortions.append(kmeanModel.inertia_)\n",
        "\n",
        "\n",
        "plt.figure(figsize=(16,8))\n",
        "plt.plot(K, distortions, 'bx-')\n",
        "plt.xlabel('k')\n",
        "plt.ylabel('Distortion')\n",
        "plt.title('The Elbow Method showing the optimal k')\n",
        "plt.show()\n",
        "\n"
      ],
      "metadata": {
        "colab": {
          "base_uri": "https://localhost:8080/",
          "height": 1000
        },
        "id": "US0cEHk5Qq3e",
        "outputId": "fef6e36a-8796-4802-eaf1-bf1f58cdbae6"
      },
      "execution_count": null,
      "outputs": [
        {
          "output_type": "stream",
          "name": "stderr",
          "text": [
            "/usr/local/lib/python3.10/dist-packages/sklearn/cluster/_kmeans.py:870: FutureWarning: The default value of `n_init` will change from 10 to 'auto' in 1.4. Set the value of `n_init` explicitly to suppress the warning\n",
            "  warnings.warn(\n",
            "/usr/local/lib/python3.10/dist-packages/sklearn/cluster/_kmeans.py:1373: RuntimeWarning: algorithm='elkan' doesn't make sense for a single cluster. Using 'lloyd' instead.\n",
            "  warnings.warn(\n",
            "/usr/local/lib/python3.10/dist-packages/sklearn/cluster/_kmeans.py:870: FutureWarning: The default value of `n_init` will change from 10 to 'auto' in 1.4. Set the value of `n_init` explicitly to suppress the warning\n",
            "  warnings.warn(\n",
            "/usr/local/lib/python3.10/dist-packages/sklearn/cluster/_kmeans.py:870: FutureWarning: The default value of `n_init` will change from 10 to 'auto' in 1.4. Set the value of `n_init` explicitly to suppress the warning\n",
            "  warnings.warn(\n",
            "/usr/local/lib/python3.10/dist-packages/sklearn/cluster/_kmeans.py:870: FutureWarning: The default value of `n_init` will change from 10 to 'auto' in 1.4. Set the value of `n_init` explicitly to suppress the warning\n",
            "  warnings.warn(\n",
            "/usr/local/lib/python3.10/dist-packages/sklearn/cluster/_kmeans.py:870: FutureWarning: The default value of `n_init` will change from 10 to 'auto' in 1.4. Set the value of `n_init` explicitly to suppress the warning\n",
            "  warnings.warn(\n",
            "/usr/local/lib/python3.10/dist-packages/sklearn/cluster/_kmeans.py:870: FutureWarning: The default value of `n_init` will change from 10 to 'auto' in 1.4. Set the value of `n_init` explicitly to suppress the warning\n",
            "  warnings.warn(\n",
            "/usr/local/lib/python3.10/dist-packages/sklearn/cluster/_kmeans.py:870: FutureWarning: The default value of `n_init` will change from 10 to 'auto' in 1.4. Set the value of `n_init` explicitly to suppress the warning\n",
            "  warnings.warn(\n",
            "/usr/local/lib/python3.10/dist-packages/sklearn/cluster/_kmeans.py:870: FutureWarning: The default value of `n_init` will change from 10 to 'auto' in 1.4. Set the value of `n_init` explicitly to suppress the warning\n",
            "  warnings.warn(\n",
            "/usr/local/lib/python3.10/dist-packages/sklearn/cluster/_kmeans.py:870: FutureWarning: The default value of `n_init` will change from 10 to 'auto' in 1.4. Set the value of `n_init` explicitly to suppress the warning\n",
            "  warnings.warn(\n",
            "/usr/local/lib/python3.10/dist-packages/sklearn/cluster/_kmeans.py:870: FutureWarning: The default value of `n_init` will change from 10 to 'auto' in 1.4. Set the value of `n_init` explicitly to suppress the warning\n",
            "  warnings.warn(\n",
            "/usr/local/lib/python3.10/dist-packages/sklearn/cluster/_kmeans.py:870: FutureWarning: The default value of `n_init` will change from 10 to 'auto' in 1.4. Set the value of `n_init` explicitly to suppress the warning\n",
            "  warnings.warn(\n",
            "/usr/local/lib/python3.10/dist-packages/sklearn/cluster/_kmeans.py:870: FutureWarning: The default value of `n_init` will change from 10 to 'auto' in 1.4. Set the value of `n_init` explicitly to suppress the warning\n",
            "  warnings.warn(\n",
            "/usr/local/lib/python3.10/dist-packages/sklearn/cluster/_kmeans.py:870: FutureWarning: The default value of `n_init` will change from 10 to 'auto' in 1.4. Set the value of `n_init` explicitly to suppress the warning\n",
            "  warnings.warn(\n",
            "/usr/local/lib/python3.10/dist-packages/sklearn/cluster/_kmeans.py:870: FutureWarning: The default value of `n_init` will change from 10 to 'auto' in 1.4. Set the value of `n_init` explicitly to suppress the warning\n",
            "  warnings.warn(\n",
            "/usr/local/lib/python3.10/dist-packages/sklearn/cluster/_kmeans.py:870: FutureWarning: The default value of `n_init` will change from 10 to 'auto' in 1.4. Set the value of `n_init` explicitly to suppress the warning\n",
            "  warnings.warn(\n",
            "/usr/local/lib/python3.10/dist-packages/sklearn/cluster/_kmeans.py:870: FutureWarning: The default value of `n_init` will change from 10 to 'auto' in 1.4. Set the value of `n_init` explicitly to suppress the warning\n",
            "  warnings.warn(\n",
            "/usr/local/lib/python3.10/dist-packages/sklearn/cluster/_kmeans.py:870: FutureWarning: The default value of `n_init` will change from 10 to 'auto' in 1.4. Set the value of `n_init` explicitly to suppress the warning\n",
            "  warnings.warn(\n",
            "/usr/local/lib/python3.10/dist-packages/sklearn/cluster/_kmeans.py:870: FutureWarning: The default value of `n_init` will change from 10 to 'auto' in 1.4. Set the value of `n_init` explicitly to suppress the warning\n",
            "  warnings.warn(\n",
            "/usr/local/lib/python3.10/dist-packages/sklearn/cluster/_kmeans.py:870: FutureWarning: The default value of `n_init` will change from 10 to 'auto' in 1.4. Set the value of `n_init` explicitly to suppress the warning\n",
            "  warnings.warn(\n"
          ]
        },
        {
          "output_type": "display_data",
          "data": {
            "text/plain": [
              "<Figure size 1600x800 with 1 Axes>"
            ],
            "image/png": "[encoded data removed]"
          },
          "metadata": {}
        }
      ]
    },
    {
      "cell_type": "code",
      "source": [
        "kmeanModel = KMeans(n_clusters=9, algorithm=\"elkan\").fit(X_vect_avg)\n",
        "kmeanModel.labels_"
      ],
      "metadata": {
        "colab": {
          "base_uri": "https://localhost:8080/"
        },
        "id": "K6S_n-7UTsK5",
        "outputId": "b3786b2e-b0a6-458b-da08-8df9589dace7"
      },
      "execution_count": null,
      "outputs": [
        {
          "output_type": "stream",
          "name": "stderr",
          "text": [
            "/usr/local/lib/python3.10/dist-packages/sklearn/cluster/_kmeans.py:870: FutureWarning: The default value of `n_init` will change from 10 to 'auto' in 1.4. Set the value of `n_init` explicitly to suppress the warning\n",
            "  warnings.warn(\n"
          ]
        },
        {
          "output_type": "execute_result",
          "data": {
            "text/plain": [
              "array([7, 4, 4, ..., 2, 2, 7], dtype=int32)"
            ]
          },
          "metadata": {},
          "execution_count": 165
        }
      ]
    },
    {
      "cell_type": "code",
      "source": [
        "len(kmeanModel.labels_)\n",
        "len(y)\n",
        "\n",
        "dic = {\n",
        "0:        [],\n",
        "1:        [],\n",
        "2:        [],\n",
        "3:        [],\n",
        "4:        [],\n",
        "5:        [],\n",
        "6:        [],\n",
        "7:        [],\n",
        "8:        []\n",
        "}\n",
        "\n",
        "for i in range(len(y)):\n",
        "  (dic[y[i]]).append(kmeanModel.labels_[i])"
      ],
      "metadata": {
        "id": "dcpGBtGpUtm0"
      },
      "execution_count": null,
      "outputs": []
    },
    {
      "cell_type": "code",
      "source": [
        "for i in dic:\n",
        "  freq = np.bincount(dic[i])\n",
        "  np.argmax(freq)\n",
        "  print(i, freq, np.argmax(freq))"
      ],
      "metadata": {
        "colab": {
          "base_uri": "https://localhost:8080/"
        },
        "id": "IcQrPdqNdXYA",
        "outputId": "0ed875a6-3feb-4d55-a3ad-54e28dc72d2c"
      },
      "execution_count": null,
      "outputs": [
        {
          "output_type": "stream",
          "name": "stdout",
          "text": [
            "0 [ 528  533 1175  747  352  525  243 2168   29] 7\n",
            "1 [110   2  78   0 330 221 400 477] 7\n",
            "2 [ 96   0   0  44   0   0   0  64 802] 8\n",
            "3 [  3   8 694   0   0  11  28 128] 2\n",
            "4 [253 185   0   1  81   3   7 228  11] 0\n",
            "5 [ 43   3   0   0 448  13  40 133   8] 4\n",
            "6 [  0   0   0   0   0 240   0  64] 5\n",
            "7 [  3   0   0   0   0   8   0 145] 7\n",
            "8 [  0   0   2   0   0   5   0 130] 7\n"
          ]
        }
      ]
    }
  ]
}